{
 "cells": [
  {
   "cell_type": "markdown",
   "metadata": {},
   "source": [
    "# 4-2. コンピュータにおけるファイルやディレクトリの配置\n",
    "木構造のデータ形式について説明します。  \n",
    "この内容はPython言語に限らず、WindowsやMac、Linuxなどの一般的なOSにおいて共通する概念です。\n",
    "\n",
    "みなさん、Windowsではエクスプローラ、MacではFinderを使ってファイルを階層的に保存していますよね。<br>\n",
    "下の例では、Windowsで「ドキュメント（Documents)」という名前のフォルダの中に「Python入門」というフォルダを作り、\n",
    "その下にこの教材を置いた時の、エクスプローラの様子を表しています。\n",
    "\n",
    "![エクスプローラ](fig/4-4-Explore.png)\n"
   ]
  },
  {
   "cell_type": "markdown",
   "metadata": {},
   "source": [
    "これはJupyter Notebookでは以下のように見えます。\n",
    "\n",
    "![Jupyter Notebook](fig/4-4-jupyterTree.png)"
   ]
  },
  {
   "cell_type": "markdown",
   "metadata": {},
   "source": [
    "このようなデータ形式は以下のようなグラフであらわすこともできます。\n",
    "まるで木を逆さにしたような形に見えますね。<br>\n",
    "ですからこのようなデータの形式を「木構造」と呼びます。<br>\n",
    "また、一番根っこにあたるデータを「ルート（根）」、先端にあたるデータを「リーフ（葉）」、その間にあるデータを「ノード（節）」と呼びます。   \n",
    "\n",
    "![Jupyter Notebook tree](fig/4-4-jupyterTreeIllust.png)  \n",
    "\n",
    "\n",
    "データの保存においては、ファイルはリーフ（葉）に相当し、フォルダはノード（節）に相当します。   \n",
    "ルートはハードディスクやUSBメモリなど記録媒体自体に対応することが多いです。  \n",
    "ハードディスクに入っているファイルと、USBメモリに入っているファイルは、それぞれ違う木に属するデータということです。"
   ]
  },
  {
   "cell_type": "markdown",
   "metadata": {},
   "source": [
    "## カレントディレクトリ\n",
    "\n",
    "4-1で`sample.txt`という名前のファイルをオープンするときに、以下のように書きました。   \n",
    "\n",
    "---\n",
    "\n",
    "```python\n",
    "f = open('sample.txt', 'r')\n",
    "```\n",
    "\n",
    "---\n",
    "\n",
    "このとき、この`sample.txt`というファイルはどこにあるのでしょうか？\n",
    "\n",
    "実は、プログラムを実行するときは、どこかのディレクトリを**カレントディレクトリ**としています。   \n",
    "Jupyter Notebookでは、そのnotebookが置かれているディレクトリをカレントディレクトリとします。  \n",
    "`sample.txt`が、このノートブックと同じディレクトリの中に置かれているならば（実際、置かれています）、上のようにして`sample.txt`を開くことができました。\n",
    "\n",
    "一方、`novel.txt`はこのnotebookと同じフォルダではなく、そこに置かれた`text`という名前のフォルダの中に\n",
    "置かれているファイルです。   \n",
    "ですから、そのままファイル名だけを指定して開こうとすると以下のようにエラーが出て、ファイルのオープンに失敗します。"
   ]
  },
  {
   "cell_type": "markdown",
   "metadata": {},
   "source": [
    "---\n",
    "\n",
    "```python\n",
    "f = open('novel.txt', 'r', encoding='utf-8')\n",
    "```\n",
    "\n",
    "---\n",
    "\n",
    "<pre><span class=\"ansi-red-fg\">---------------------------------------------------------------------------</span>\n",
    "<span class=\"ansi-red-fg\">FileNotFoundError</span>                         Traceback (most recent call last)\n",
    "<span class=\"ansi-green-fg\">&lt;ipython-input-1-cc9526482c59&gt;</span> in <span class=\"ansi-cyan-fg\">&lt;module&gt;</span>\n",
    "<span class=\"ansi-green-fg\">----&gt; 1</span><span class=\"ansi-red-fg\"> </span>f <span class=\"ansi-blue-fg\">=</span> open<span class=\"ansi-blue-fg\">(</span><span class=\"ansi-blue-fg\">\"novel.txt\"</span><span class=\"ansi-blue-fg\">,</span> <span class=\"ansi-blue-fg\">\"r\"</span><span class=\"ansi-blue-fg\">,</span> encoding<span class=\"ansi-blue-fg\">=</span><span class=\"ansi-blue-fg\">\"utf-8\"</span><span class=\"ansi-blue-fg\">)</span>\n",
    "\n",
    "<span class=\"ansi-red-fg\">FileNotFoundError</span>: [Errno 2] No such file or directory: 'novel.txt'\n",
    "\n",
    "</pre>"
   ]
  },
  {
   "cell_type": "markdown",
   "metadata": {},
   "source": [
    "ではどうやったら「カレントディレクトリの下の`text`の下」にある「`novel.txt`」を開けるのでしょうか？<br>\n",
    "これは次のように行います。<br>\n",
    "\n",
    "---\n",
    "\n",
    "```python\n",
    "f = open('text/novel.txt', 'r', encoding='utf-8')\n",
    "```\n",
    "\n",
    "---\n",
    "\n",
    "このようにすることによって、「カレントディレクトリの下の`text`の下にある`novel.txt`を開いてください」と指示することができます。  \n",
    "これは、カレントディレクトリから「`novel.txt`」までの経路（行き方）を表したものなので**パス**とも呼びます。"
   ]
  },
  {
   "cell_type": "code",
   "execution_count": null,
   "metadata": {},
   "outputs": [],
   "source": [
    "f = open('text/novel.txt', 'r', encoding='utf-8')\n",
    "print(f.read())\n",
    "f.close()"
   ]
  },
  {
   "cell_type": "markdown",
   "metadata": {},
   "source": [
    "## 相対パスと絶対パス\n",
    "`text/novel.txt`という表現では、カレントディレクトリから「`novel.txt`」までのパスを表しています。  \n",
    "ここで、Jupyter Notebookでは、カレントディレクトリはnotebookの場所になるので、どの場所に置かれたnotebookを開いているかによってカレントディレクトリが変わり、それに応じて、同じファイルでもパスが変わります。  \n",
    "このようなパスの表現を**相対パス**と呼びます。\n",
    "\n",
    "一方、Windowsの場合`C:\\Users\\hagiya\\Douments\\Python入門\\novel1.txt`、\n",
    "MacOSの場合`/Users/hagiya/Documents/Python入門/novel1.txt`のように、ルートからのパスを記した場合、\n",
    "カレントディレクトリの場所に関わらず、常に同じファイルを指すことができます。  \n",
    "このようなパスの表現を**絶対パス**と呼びます。\n",
    "\n",
    "ところで、カレントディレクトリより下にあるファイルは、そこまでに入るディレクトリ名を`/`で区切って書けばいいですが、\n",
    "その下にないファイルを指すにはどうしたらいいでしょうか？  \n",
    "たとえば下の図のようにカレントディレクトリが`C:\\Users\\hagiya\\Douments\\Python入門`（MacOSなら`/Users/hagiya/Documents/Python入門`）のとき、\n",
    "`C:\\Users\\hagiya\\Douments\\メディアプログラミング入門\\imagelist.csv`（MacOSなら`/Users/hagiya/Douments/メディアプログラミング入門/imagelist.csv`)を開きたい場合はどうしたらいいでしょう？\n",
    "\n",
    "![Jupyter Notebook tree](fig/4-4-jupyterTreeIllust2.png)\n",
    "\n",
    "実は、一つ上のディレクトリを`..`（コンマ２つ）で表現することができます。  \n",
    "上の例だと、  \n",
    "\n",
    "---\n",
    "\n",
    "```python\n",
    "f = open('../メディアプログラミング入門/imagelist.csv', 'r')\n",
    "```\n",
    "\n",
    "---\n",
    "\n",
    "とすれば、`C:\\Users\\hagiya\\Douments\\メディアプログラミング入門\\imagelist.csv`（MacOSなら`/Users/hagiya/Douments/メディアプログラミング入門/imagelist.csv`)を開くことができます。  \n",
    "`..`によって、「Python入門」から一段上の「Documents」に戻り、そこから「メディアプログラミング入門の下のimagelist.csv」と辿っているわけです。"
   ]
  },
  {
   "cell_type": "markdown",
   "metadata": {},
   "source": [
    "## 木構造によるデータ表現\n",
    "\n",
    "木構造はファイルやディレクトリの保存形式だけでなく、データの表現として幅広く利用されます。<br>\n",
    "たとえば家系図も木構造による表現です。「家系図」は英語で\"Family tree\"ですよね。\n",
    "\n",
    "![Family tree](fig/4-4-FamilyTree.png)\n",
    "\n",
    "このような構造を持つデータでは、まるで家系図のように、上位下位関係にあるデータ同士を「親子（parent/child)」と呼んだり、同位関係にあるものを「兄妹（siblings)」と呼んだりします。「祖先（ancestor)」や「子孫（desendant)」という表現も使われます。<br>\n",
    "データのグラフ構造におけるこのような表現は、実際に親子関係にあるかは関係ありません。<br>\n",
    "たとえば下の図は四肢動物の系統樹です。\n",
    "\n",
    "![tree](fig/4-4-PhylogeneticTree.png)\n",
    "\n",
    "データ構造的には、「有羊膜類」と「哺乳類」は親子関係にあるというわけです。<br>\n"
   ]
  }
 ],
 "metadata": {
  "kernelspec": {
   "display_name": "Python 3",
   "language": "python",
   "name": "python3"
  },
  "language_info": {
   "codemirror_mode": {
    "name": "ipython",
    "version": 3
   },
   "file_extension": ".py",
   "mimetype": "text/x-python",
   "name": "python",
   "nbconvert_exporter": "python",
   "pygments_lexer": "ipython3",
   "version": "3.6.8"
  }
 },
 "nbformat": 4,
 "nbformat_minor": 2
}
