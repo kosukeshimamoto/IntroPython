{
 "cells": [
  {
   "cell_type": "markdown",
   "metadata": {},
   "source": [
    "# ▲ JSONファイルの入出力\n",
    "JSONファイルの入出力について説明します。\n",
    "\n",
    "参考\n",
    "\n",
    "- https://docs.python.org/ja/3/library/json.html\n",
    "\n",
    "## JSON形式とは\n",
    "\n",
    "**JSON形式**は、JavaScript Object Notationの略で、データを保存するための記録方式の一つです。<br>\n",
    "特に、辞書や辞書のリストを記録することができます。\n",
    "\n",
    "たとえばサークルのメンバーデータを作ることを考えましょう。<br>\n",
    "メンバーは「鈴木一郎」と「山田花子」の2名で、それぞれ『氏名』『ニックネーム』『出身地』を記録しておきたいと思います。<br>\n",
    "表で表すとこんなデータです。ニックネームには複数の要素が入っていることに注意してください。<br>"
   ]
  },
  {
   "cell_type": "markdown",
   "metadata": {},
   "source": [
    "|ID| 氏名 | ニックネーム | 出身地 | \n",
    "|---:|:--------|:---------------|:-------|\n",
    "|user1| 鈴木一郎 | イチロー, いっち | 広島 |\n",
    "|user2| 山田花子 | はなこ,ハナちゃん | 名古屋 |"
   ]
  },
  {
   "cell_type": "markdown",
   "metadata": {},
   "source": [
    "これをJSON形式で表すと以下のようになります。"
   ]
  },
  {
   "cell_type": "raw",
   "metadata": {},
   "source": [
    "{\n",
    "    \"user1\" :  {\n",
    "        \"氏名\":\"鈴木一郎\",\n",
    "        \"ニックネーム\":[\n",
    "            \"イチロー\",\n",
    "            \"いっち\"\n",
    "        ],\n",
    "        \"出身地\":\"広島\"\n",
    "    },\n",
    "    \"user2\"  :  {\n",
    "        \"氏名\":\"鈴木花子\",\n",
    "        \"ニックネーム\":[\n",
    "            \"はなこ\",\n",
    "            \"ハナちゃん\"\n",
    "        ],\n",
    "        \"出身地\":\"名古屋\"\n",
    "    }\n",
    "}"
   ]
  },
  {
   "cell_type": "markdown",
   "metadata": {},
   "source": [
    "JSON形式で`key:value`となっている場合、`:`で挟んだ左側がkey, 右側がvalueであるような辞書と考えてください。\n",
    "\n",
    "また、`{}`で囲んだものは辞書、`[]`で囲んだものはリストで、辞書の中に辞書、リストの中に辞書、など、入れ子の構造にすることができます。複数の要素を列挙する場合は`,(コンマ)`で区切ります。\n",
    "\n",
    "| 値の型 | jsonの例 |\n",
    "|:---|:---|\n",
    "| string | `\"data\":\"123\"` |\n",
    "| number | `\"data\":123` |\n",
    "| boolean | `\"data\":true` |\n",
    "| 辞書 | `\"data\":{\"a\":\"b\"}` |    \n",
    "| リスト | `\"data\":[1,2,3]` |\n",
    "\n",
    "上のJSONファイルの例では、全体が1つのオブジェクトであり、その中に`\"user1\"`と`\"user2\"`というラベルのついた2つの辞書があり、その各辞書の中には`\"氏名\"`と`\"ニックネーム\"`と`\"出身地\"`の3つのオブジェクトがあり、さらに`\"ニックネーム\"`の値には、`\"イチロー\"`や`\"いっち\"`といった要素がリスト形式で記録されています。\n",
    "\n",
    "リストや辞書は自由に構成することができます。  \n",
    "例えば下の例はリストのリストです。"
   ]
  },
  {
   "cell_type": "raw",
   "metadata": {},
   "source": [
    "[\n",
    "    [\n",
    "        'りんご',\n",
    "        'みかん',\n",
    "        'バナナ'\n",
    "    ],\n",
    "    [\n",
    "        '玉ねぎ',\n",
    "        '人参',\n",
    "        'ジャガイモ'\n",
    "    ]\n",
    "]"
   ]
  },
  {
   "cell_type": "markdown",
   "metadata": {},
   "source": [
    "下の例は辞書のリストです。"
   ]
  },
  {
   "cell_type": "raw",
   "metadata": {},
   "source": [
    "[\n",
    "    {\n",
    "        'りんご': 3,\n",
    "        'みかん': 5,\n",
    "        'バナナ': 2\n",
    "    },\n",
    "    {\n",
    "        '玉ねぎ': 4,\n",
    "        '人参': 2,\n",
    "        'ジャガイモ': 1\n",
    "    }\n",
    "]"
   ]
  },
  {
   "cell_type": "markdown",
   "metadata": {
    "slideshow": {
     "slide_type": "slide"
    }
   },
   "source": [
    "## JSONファイルのダンプとロード\n",
    "\n",
    "**`json`** モジュールを用いることにより、Pythonの各種のデータをファイルに書き出す（ダンプする）ことができ、また、ファイルからロード（読み込み）することができます。ダンプとロードには、それぞれ **`json.dumps`** と **`json.load`** を用います。   \n",
    "また、JSONファイルの中身を標準出力で書き出すときは、**`json.dump`** を使います（ファイルに書き出す**`json.dumps`**とは、「dump」と「dumps」に違いがあるので注意してください。\n",
    "\n",
    "読み込もうとするJSONファイルに日本語が含まれている場合、`json.dumps`でダンプする際は、オプションとして`ensure_ascii=True`を指定しないと文字化けするので注意してください。"
   ]
  },
  {
   "cell_type": "code",
   "execution_count": null,
   "metadata": {},
   "outputs": [],
   "source": [
    "import json\n",
    "\n",
    "# 上で例に挙げたJSON形式のデータ表現\n",
    "d = {\n",
    "    'user1' :  {\n",
    "        '氏名':'鈴木一郎',\n",
    "        'ニックネーム':[\n",
    "            'イチロー',\n",
    "            'いっち'\n",
    "        ],\n",
    "        '出身地':'広島'\n",
    "    },\n",
    "    'user2'  :  {\n",
    "        '氏名':'鈴木花子',\n",
    "        'ニックネーム':[\n",
    "            'はなこ',\n",
    "            'ハナちゃん'\n",
    "        ],\n",
    "        '出身地':'名古屋'\n",
    "    }\n",
    "}\n",
    "\n",
    "# dをファイルに書き出し\n",
    "with open('test.json', 'w', encoding='utf-8') as f:\n",
    "    # ensure_ascii=Falseを指定しないと文字化けします\n",
    "    json.dump(d, f, ensure_ascii=False)\n",
    "    \n",
    "# JSONファイルを読み込み\n",
    "with open('test.json', 'r', encoding='utf-8') as f:\n",
    "    d1 = json.load(f)\n",
    "\n",
    "# jsonデータをただ印刷するだけだと1行にまとまってしまい、データの構造が非常にわかりづらくなります。\n",
    "# 見やすくするには json.dumps が有用です。\n",
    "print(d1)\n",
    "\n",
    "# 上記のようだととても見にくいので整形して読み込み\n",
    "\n",
    "# JSONファイルを読み込み\n",
    "# ensure_ascii=Falseを指定しないと文字化けします\n",
    "print(json.dumps(d1, indent=2, ensure_ascii=False))"
   ]
  },
  {
   "cell_type": "markdown",
   "metadata": {},
   "source": [
    "なお、1つのJSONファイルには1つのJSON形式のデータしか記録できません。   \n",
    "2つ以上のJSON形式のデータを記録してしまうと、JSON形式とみなされず、エラーが起きますので注意してください。\n",
    "\n",
    "以下の例では、`'test.json'`に`d`をJSON形式で2回ダンプしています。よって、その`'test.json'`を`json.load`で読み込む際にエラーが出ます。   \n",
    "`json.dump`の行を一つコメントアウトして、1回だけ書き出すようにすれば、エラーが起きなくなることを確認してください。"
   ]
  },
  {
   "cell_type": "code",
   "execution_count": null,
   "metadata": {},
   "outputs": [],
   "source": [
    "with open('test.json', 'w', encoding='utf-8') as f:\n",
    "    json.dump(d, f, ensure_ascii=False)\n",
    "    json.dump(d, f, ensure_ascii=False) # <== 1回だけを書き出すよう、この行をコメントアウトしてください\n",
    "\n",
    "with open('test.json', 'r', encoding='utf-8') as f:\n",
    "    d1 = json.load(f)\n"
   ]
  },
  {
   "cell_type": "markdown",
   "metadata": {
    "slideshow": {
     "slide_type": "slide"
    }
   },
   "source": [
    "## 練習\n",
    "\n",
    "1. 以下のリスト内包の結果を `fib.json` というファイルにJSONフォーマットでダンプしてください。\n",
    "\n",
    "2. ダンプしたファイルからロードして、同じものが得られることを確かめてください。"
   ]
  },
  {
   "cell_type": "code",
   "execution_count": null,
   "metadata": {},
   "outputs": [],
   "source": [
    "def fib(n):\n",
    "    if (n == 0):\n",
    "        return 0\n",
    "    elif (n == 1):\n",
    "        return 1\n",
    "    else:\n",
    "        return fib(n-1)+fib(n-2)\n",
    "\n",
    "[{'n': n, 'fib' : fib(n)} for n in range(0,10)]"
   ]
  },
  {
   "cell_type": "code",
   "execution_count": null,
   "metadata": {},
   "outputs": [],
   "source": []
  },
  {
   "cell_type": "markdown",
   "metadata": {},
   "source": [
    "以下のセルによってテストしてください。"
   ]
  },
  {
   "cell_type": "code",
   "execution_count": null,
   "metadata": {
    "slideshow": {
     "slide_type": "slide"
    }
   },
   "outputs": [],
   "source": [
    "with open('fib.json', 'r') as f:\n",
    "    print(json.load(f) == [{'n': n, 'fib' : fib(n)} for n in range(0,10)])"
   ]
  },
  {
   "cell_type": "markdown",
   "metadata": {
    "slideshow": {
     "slide_type": "slide"
    }
   },
   "source": [
    "### 東京大学授業カタログ\n",
    "`catalog-2018.json` には、東京大学授業カタログから取り出したデータが記録されています。\n",
    "\n",
    "具体的には、各授業の情報を納めた辞書のリストがJSONフォーマットで記録されています。\n",
    "これをロードするには、以下のようにします。"
   ]
  },
  {
   "cell_type": "code",
   "execution_count": null,
   "metadata": {},
   "outputs": [],
   "source": [
    "with open('catalog-2018.json', 'r', encoding='utf-8') as f:\n",
    "    j = json.load(f)"
   ]
  },
  {
   "cell_type": "markdown",
   "metadata": {},
   "source": [
    "j はリストであることを確認します。"
   ]
  },
  {
   "cell_type": "code",
   "execution_count": null,
   "metadata": {
    "slideshow": {
     "slide_type": "slide"
    }
   },
   "outputs": [],
   "source": [
    "type(j)"
   ]
  },
  {
   "cell_type": "markdown",
   "metadata": {},
   "source": [
    "j の大きさ、すなわち授業カタログの件数、を確認します。"
   ]
  },
  {
   "cell_type": "code",
   "execution_count": null,
   "metadata": {
    "slideshow": {
     "slide_type": "slide"
    }
   },
   "outputs": [],
   "source": [
    "len(j)"
   ]
  },
  {
   "cell_type": "markdown",
   "metadata": {},
   "source": [
    "`j` の各要素は個々の授業に対応していて、各授業の情報を辞書として含んでいます。"
   ]
  },
  {
   "cell_type": "code",
   "execution_count": null,
   "metadata": {},
   "outputs": [],
   "source": [
    "j[0]"
   ]
  },
  {
   "cell_type": "code",
   "execution_count": null,
   "metadata": {
    "slideshow": {
     "slide_type": "slide"
    }
   },
   "outputs": [],
   "source": [
    "j[1]"
   ]
  },
  {
   "cell_type": "markdown",
   "metadata": {
    "slideshow": {
     "slide_type": "slide"
    }
   },
   "source": [
    "各授業の担当教員の日本語の名前は、`name_j` というキーに対する値として格納されています。"
   ]
  },
  {
   "cell_type": "code",
   "execution_count": null,
   "metadata": {},
   "outputs": [],
   "source": [
    "j[1]['name_j']"
   ]
  },
  {
   "cell_type": "markdown",
   "metadata": {},
   "source": [
    "姓と名は、`\\u3000` というコードで区切られているようです。 "
   ]
  },
  {
   "cell_type": "code",
   "execution_count": null,
   "metadata": {},
   "outputs": [],
   "source": [
    "j[1]['name_j'].split('\\u3000')"
   ]
  },
  {
   "cell_type": "code",
   "execution_count": null,
   "metadata": {},
   "outputs": [],
   "source": [
    "j[1]['Title']"
   ]
  },
  {
   "cell_type": "markdown",
   "metadata": {
    "slideshow": {
     "slide_type": "skip"
    }
   },
   "source": [
    "`title` をキーに持たない授業はないようです。"
   ]
  },
  {
   "cell_type": "code",
   "execution_count": null,
   "metadata": {
    "slideshow": {
     "slide_type": "skip"
    }
   },
   "outputs": [],
   "source": [
    "for d in j:\n",
    "    if d.get('title',-1)==-1:\n",
    "        print(d)"
   ]
  },
  {
   "cell_type": "markdown",
   "metadata": {
    "slideshow": {
     "slide_type": "skip"
    }
   },
   "source": [
    "## 不要な空白や改行の除去\n",
    "ファイルから読み込んだ文字列の前後に不要な空白や改行がある場合は、組み込み関数 **`strip()`** を使用するとそれらの空白・改行を除去することができます。"
   ]
  },
  {
   "cell_type": "code",
   "execution_count": null,
   "metadata": {
    "slideshow": {
     "slide_type": "skip"
    }
   },
   "outputs": [],
   "source": [
    "'   This is strip.\\n'.strip()"
   ]
  },
  {
   "cell_type": "markdown",
   "metadata": {
    "slideshow": {
     "slide_type": "skip"
    }
   },
   "source": [
    "lstrip は文頭、rstrip は文末の空白や改行を除去します。"
   ]
  },
  {
   "cell_type": "code",
   "execution_count": null,
   "metadata": {
    "slideshow": {
     "slide_type": "skip"
    }
   },
   "outputs": [],
   "source": [
    "'   This is strip.\\n'.lstrip()"
   ]
  },
  {
   "cell_type": "code",
   "execution_count": null,
   "metadata": {
    "slideshow": {
     "slide_type": "skip"
    }
   },
   "outputs": [],
   "source": [
    "'   This is strip.\\n'.rstrip()"
   ]
  },
  {
   "cell_type": "code",
   "execution_count": null,
   "metadata": {},
   "outputs": [],
   "source": []
  },
  {
   "cell_type": "code",
   "execution_count": null,
   "metadata": {},
   "outputs": [],
   "source": []
  },
  {
   "cell_type": "code",
   "execution_count": null,
   "metadata": {
    "slideshow": {
     "slide_type": "skip"
    }
   },
   "outputs": [],
   "source": []
  },
  {
   "cell_type": "markdown",
   "metadata": {
    "slideshow": {
     "slide_type": "skip"
    }
   },
   "source": [
    "##  練習の解答"
   ]
  },
  {
   "cell_type": "code",
   "execution_count": null,
   "metadata": {},
   "outputs": [],
   "source": [
    "with open('fib.json', 'w') as f:\n",
    "    json.dump([{'n': n, 'fib' : fib(n)} for n in range(0,10)], f)"
   ]
  },
  {
   "cell_type": "code",
   "execution_count": null,
   "metadata": {},
   "outputs": [],
   "source": []
  }
 ],
 "metadata": {
  "kernelspec": {
   "display_name": "Python 3",
   "language": "python",
   "name": "python3"
  },
  "language_info": {
   "codemirror_mode": {
    "name": "ipython",
    "version": 3
   },
   "file_extension": ".py",
   "mimetype": "text/x-python",
   "name": "python",
   "nbconvert_exporter": "python",
   "pygments_lexer": "ipython3",
   "version": "3.6.8"
  }
 },
 "nbformat": 4,
 "nbformat_minor": 2
}
