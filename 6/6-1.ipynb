{
 "cells": [
  {
   "cell_type": "markdown",
   "metadata": {},
   "source": [
    "# 6-1. 関数プログラミング\n",
    "関数プログラミングについて説明します。\n",
    "\n",
    "参考\n",
    "- https://docs.python.org/ja/3/howto/functional.html\n",
    "- https://docs.python.org/ja/3/library/functions.html\n",
    "- https://docs.python.org/ja/3/library/itertools.html\n",
    "- https://docs.python.org/ja/3/library/functools.html\n",
    "\n",
    "**関数プログラミング**（**functional programming**）とは、プログラムを（数学的な）関数の合成で記述するプログラミングスタイルです。\n",
    "処理を操作列と考えて命令的に記述するのではなく、処理をデータ変換を行う関数に分解して記述します。\n",
    "これをPythonで行うときに重要になるのは、高階関数とイテレータです。\n",
    "したがって、Pythonにおける関数プログラミングとは、高階関数とイテレータを使いこなすことだと考えても、ほぼ差し支えありません。"
   ]
  },
  {
   "cell_type": "markdown",
   "metadata": {},
   "source": [
    "## 高階関数\n",
    "\n",
    "**高階関数** （**higher-order function**）とは、値として関数を受け取ったり返したりする関数のことです。\n",
    "Pythonにおける関数はオブジェクトなので、定義した関数をそのまま渡したり返したりすることができます。"
   ]
  },
  {
   "cell_type": "code",
   "execution_count": null,
   "metadata": {},
   "outputs": [],
   "source": [
    "def inc(x):\n",
    "    return x+1\n",
    "\n",
    "def twice(f, x):\n",
    "    return f(f(x))\n",
    "\n",
    "def genfunc():\n",
    "    return inc\n",
    "\n",
    "twice(genfunc(), 0)"
   ]
  },
  {
   "cell_type": "markdown",
   "metadata": {},
   "source": [
    "ここで、`twice()`は関数を受け取り、`genfunc()`は関数を返しているので、どちらも高階関数です。\n",
    "\n",
    "組込み関数などのよく使われる関数には、関数を受け取る高階関数が多いです。\n",
    "そのような高階関数を使うときには、上に示した`inc()`のように、小さい関数を渡したくなることがよくあります。\n",
    "この時に便利なのが、**ラムダ式**（または**無名関数**）です。例えば、\n",
    "```Python\n",
    "lambda x: x+1\n",
    "```\n",
    "は、`inc()`と等価な関数オブジェクトと返します。一般に、\n",
    "```Python\n",
    "f = lambda 引数: 式\n",
    "```\n",
    "は\n",
    "```Python\n",
    "def f(引数):\n",
    "    return 式\n",
    "```\n",
    "と同等です。\n",
    "\n",
    "ラムダ式は、`def`記法による関数定義に比べて記述に制限が加わりますが、関数呼出しの引数の位置に関数定義を記述できるという利点があります。\n",
    "例えば、`twice(inc, 0)`の代わりに`twice(lambda x: x+1, 0)`と呼び出すなら、わざわざ`inc()`を定義しなくて済みます。\n",
    "このように、ラムダ式を有効活用すると、全体のコードが簡潔で読みやすくなります。"
   ]
  },
  {
   "cell_type": "markdown",
   "metadata": {},
   "source": [
    "### sorted\n",
    "2-2で、整列（ソート）されたリストを返す関数**`sorted()`**を導入しました。"
   ]
  },
  {
   "cell_type": "code",
   "execution_count": null,
   "metadata": {},
   "outputs": [],
   "source": [
    "sorted([1,3,-2,0])"
   ]
  },
  {
   "cell_type": "markdown",
   "metadata": {},
   "source": [
    "実は、`sorted()`は`key`引数に関数を取れる高階関数です。\n",
    "`key`引数は、各要素を比較に使われる値に変換する関数を取ります。\n",
    "例えば、絶対値の昇順で整列したい場合、絶対値関数`abs()`を`key`引数に渡せばよいです。"
   ]
  },
  {
   "cell_type": "code",
   "execution_count": null,
   "metadata": {},
   "outputs": [],
   "source": [
    "sorted([1,3,-2,0], key=abs)"
   ]
  },
  {
   "cell_type": "markdown",
   "metadata": {},
   "source": [
    "#### 練習\n",
    "文字列のキーと数値の値のペアのリスト`ls`があるとする。例えば、`ls = [('A', 1), ('B', 3), ('C', -1), ('D', 0)]`。\n",
    "このリスト`ls`を、値の降順で整列するように、`sorted()`を呼び出せ。"
   ]
  },
  {
   "cell_type": "markdown",
   "metadata": {},
   "source": [
    "### max, min\n",
    "\n",
    "組込み関数**`max()`**と**`min()`**は、それぞれ最大の要素と最小の要素を返す関数です。"
   ]
  },
  {
   "cell_type": "code",
   "execution_count": null,
   "metadata": {},
   "outputs": [],
   "source": [
    "max([1,3,-2,0])"
   ]
  },
  {
   "cell_type": "code",
   "execution_count": null,
   "metadata": {},
   "outputs": [],
   "source": [
    "min([1,3,-2,0])"
   ]
  },
  {
   "cell_type": "markdown",
   "metadata": {},
   "source": [
    "`sorted()`と同様に、どちらも`key`引数に、比較に使われる値に変換する関数を取れます。\n",
    "したがって、例えば`abs()`を渡せば、絶対値が最大と最小となる要素を返します。"
   ]
  },
  {
   "cell_type": "code",
   "execution_count": null,
   "metadata": {},
   "outputs": [],
   "source": [
    "max([1,-3,-2,0], key=abs)"
   ]
  },
  {
   "cell_type": "code",
   "execution_count": null,
   "metadata": {},
   "outputs": [],
   "source": [
    "min([1,-3,-2,0], key=abs)"
   ]
  },
  {
   "cell_type": "markdown",
   "metadata": {},
   "source": [
    "#### 練習\n",
    "リスト（例えば`[1,3,-2,0]`）の最小の要素を返すように、`max()`を用いよ。\n",
    "ただし、リストの各要素は数値だと仮定して良い。"
   ]
  },
  {
   "cell_type": "markdown",
   "metadata": {},
   "source": [
    "### ▲reduce\n",
    "\n",
    "3-3や3-4で、組込み関数の`sum()`を紹介しました。\n",
    "これは総和を返す組込み関数でした。"
   ]
  },
  {
   "cell_type": "code",
   "execution_count": null,
   "metadata": {},
   "outputs": [],
   "source": [
    "sum([-1,-3,2,4])"
   ]
  },
  {
   "cell_type": "markdown",
   "metadata": {},
   "source": [
    "総和があるならば、総乗を取るような組込み関数があるかというと、ありません。\n",
    "しかし、`functools`モジュールには、総和や総乗を一般化した関数**`functool.reduce()`**があります。\n",
    "\n",
    "`reduce()`は、第1引数にとる2引数関数を使って、第2引数を前から順に畳み込む関数です。\n",
    "前から順に畳み込むとは、具体的には、第1引数が`f`で、第2引数が`[-1,-3,2,4]`のとき、`f(f(f(-1, -3), 2), 4)`という演算です。\n",
    "したがって、総和も総乗も次のように表現できます。"
   ]
  },
  {
   "cell_type": "code",
   "execution_count": null,
   "metadata": {},
   "outputs": [],
   "source": [
    "import functools\n",
    "functools.reduce(lambda x,y: x+y, [-1,-3,2,4])"
   ]
  },
  {
   "cell_type": "code",
   "execution_count": null,
   "metadata": {},
   "outputs": [],
   "source": [
    "functools.reduce(lambda x,y: x*y, [-1,-3,2,4])"
   ]
  },
  {
   "cell_type": "markdown",
   "metadata": {},
   "source": [
    "`sum()`の第2引数に初期値を取れるように、`reduce()`も第3引数に初期値を取れます。"
   ]
  },
  {
   "cell_type": "code",
   "execution_count": null,
   "metadata": {},
   "outputs": [],
   "source": [
    "sum([-1,-3,2,4], 10)"
   ]
  },
  {
   "cell_type": "code",
   "execution_count": null,
   "metadata": {},
   "outputs": [],
   "source": [
    "functools.reduce(lambda x,y: x*y, [-1,-3,2,4], 10)"
   ]
  },
  {
   "cell_type": "markdown",
   "metadata": {},
   "source": [
    "初期値は、第2引数の要素とは異なるデータ型を取ることを許されます。\n",
    "与える関数の第1引数と第2引数も、異なるデータ型を取ることを許されます。\n",
    "したがって、巧妙に初期値と引数関数を設定することで、様々な計算を`reduce()`で実現できます。"
   ]
  },
  {
   "cell_type": "code",
   "execution_count": null,
   "metadata": {},
   "outputs": [],
   "source": [
    "def enumstep(x, y):\n",
    "    i, ls = x\n",
    "    ls.append((i,y))\n",
    "    return (i + 1, ls)\n",
    "functools.reduce(enumstep, 'ACDB', (0,[]))[1]"
   ]
  },
  {
   "cell_type": "markdown",
   "metadata": {},
   "source": [
    "ただし、このように複雑になってくると、素直にfor文で書いた方が見やすくなることも多々あります。\n",
    "`reduce()`の利用には、バランス感覚が重要です。"
   ]
  },
  {
   "cell_type": "markdown",
   "metadata": {
    "slideshow": {
     "slide_type": "slide"
    }
   },
   "source": [
    "## イテレータ\n",
    "\n",
    "前述の`sorted()`、`min()`、`max()`などは、リストとタプルの両方を同様に渡して処理することができます。\n",
    "for文で走査（全要素を訪問）するときも、リストとタプルは同様に扱えます。\n",
    "何故、異なるものを同じように扱えるのでしょうか。\n",
    "それはイテレータという仕掛けがあるからです。\n",
    "\n",
    "**イテレータ**とは、要素の集まりを走査するオブジェクトです。\n",
    "組込み関数**`iter()`**によって構築し、組込み関数**`next()`**によって要素を取り出します。"
   ]
  },
  {
   "cell_type": "code",
   "execution_count": null,
   "metadata": {},
   "outputs": [],
   "source": [
    "it = iter([1,2]) # [1,2]のイテレータを構築\n",
    "next(it)"
   ]
  },
  {
   "cell_type": "code",
   "execution_count": null,
   "metadata": {},
   "outputs": [],
   "source": [
    "next(it)"
   ]
  },
  {
   "cell_type": "code",
   "execution_count": null,
   "metadata": {},
   "outputs": [],
   "source": [
    "next(it)"
   ]
  },
  {
   "cell_type": "markdown",
   "metadata": {},
   "source": [
    "`next()`は、返す要素がないとき（走査の終了時）に、**`StopIteration`**という例外を投げます。\n",
    "\n",
    "イテレータを`iter()`に渡すと、それ自身が返されます。"
   ]
  },
  {
   "cell_type": "code",
   "execution_count": null,
   "metadata": {},
   "outputs": [],
   "source": [
    "it = iter([1,2]) \n",
    "it is iter(it)"
   ]
  },
  {
   "cell_type": "markdown",
   "metadata": {},
   "source": [
    "イテレータもfor文で反復処理できます。"
   ]
  },
  {
   "cell_type": "code",
   "execution_count": null,
   "metadata": {},
   "outputs": [],
   "source": [
    "it = iter([1,2])\n",
    "for x in it:\n",
    "    print(x)"
   ]
  },
  {
   "cell_type": "markdown",
   "metadata": {},
   "source": [
    "for文では、`StopIteration`を検知して反復を自動的に終了しています。\n",
    "\n",
    "ここで重要なのは、リストやタプルなどのデータ構造は、全てイテレータを経由して走査するということです。\n",
    "つまり、リストやタプルなど異なるものから、イテレータという同様に操作できるオブジェクトを構築して利用することで、同じように走査できるようになったわけです。"
   ]
  },
  {
   "cell_type": "code",
   "execution_count": null,
   "metadata": {},
   "outputs": [],
   "source": [
    "it = iter((1,2)) # (1,2)のイテレータを構築\n",
    "for x in it:\n",
    "    print(x)"
   ]
  },
  {
   "cell_type": "markdown",
   "metadata": {
    "slideshow": {
     "slide_type": "slide"
    }
   },
   "source": [
    "ここで注意すべきことは、イテレータは1回の走査にしか使えない、使い捨てのオブジェクトだということです。\n",
    "同じデータ構造を複数回走査したいときには、走査する度にイテレータを構築する必要があります。"
   ]
  },
  {
   "cell_type": "code",
   "execution_count": null,
   "metadata": {},
   "outputs": [],
   "source": [
    "next(it) # (1,2)のイテレータitは走査が終了したまま"
   ]
  },
  {
   "cell_type": "code",
   "execution_count": null,
   "metadata": {},
   "outputs": [],
   "source": [
    "for x in it:\n",
    "    print('これは呼び出されない')"
   ]
  },
  {
   "cell_type": "markdown",
   "metadata": {
    "slideshow": {
     "slide_type": "slide"
    }
   },
   "source": [
    "ここで憶えておくべきことは、イテレータ自体は元のデータ構造をコピーしないということです。\n",
    "要素を1つ1つ訪問するという反復処理を実現するオブジェクトであり、`iter()`や`next()`は、構築元のデータ構造のサイズ（要素数）に依存しないコストで通常実装されます。\n",
    "例えば、リストの先頭要素を除いた残りの部分を走査するとき、\n",
    "```Python\n",
    "for x in ls[1:]:\n",
    "    何かの処理\n",
    "\n",
    "```\n",
    "と残りの部分をスライスとしてコピーするよりも、\n",
    "```Python\n",
    "it = iter(ls)\n",
    "next(it) # 先頭要素を捨てる\n",
    "for x in it:\n",
    "    何かの処理\n",
    "\n",
    "```\n",
    "とイテレータで直接走査する方が効率的です。\n",
    "これは、サイズが小さいデータ構造を扱うときには問題になりませんが、大きいものを扱うときには気を付けるべきことです。\n",
    "\n",
    "ここまで、イテレータの使い方は、`next()`で要素を取り出すか、for文で反復するだけでしたが、実は`sorted()`、`max()`、`min()`などに渡すことができます。\n",
    "文字列、タプル、リスト、辞書、イテレータなど、イテレータを介して要素を走査可能なオブジェクトを総称して**イテラブル**と呼びます。\n",
    "`sorted()`・`max()`・`min()`は、イテラブルを受け取る関数です。\n",
    "\n",
    "イテレータ`it`の中身を印字して確認したいときには、`print(*it)`と、イテレータを展開して可変長引数として`print()`を呼び出すのが簡潔で便利です。\n",
    "ただし、中身を確認した後の`it`はもう利用できないこと、大量の要素を生成するイテレータには不向きであることに留意してください。"
   ]
  },
  {
   "cell_type": "code",
   "execution_count": null,
   "metadata": {},
   "outputs": [],
   "source": [
    "it = iter(range(4))\n",
    "next(it) # 先頭の 0 を捨てる\n",
    "print(*it)"
   ]
  },
  {
   "cell_type": "markdown",
   "metadata": {
    "slideshow": {
     "slide_type": "slide"
    }
   },
   "source": [
    "イテレータとイテラブルの詳細については、付録 [6-iterable](../appendix/6-iterable.ipynb) を参照してください。"
   ]
  },
  {
   "cell_type": "markdown",
   "metadata": {
    "slideshow": {
     "slide_type": "slide"
    }
   },
   "source": [
    "### 練習\n",
    "与えられたイテラブルの先頭要素を除いた残りの部分の最大値を返す関数`tailmax()`を、イテレータを使って、for文を使わずに、上の例に倣って効率的に実装せよ。"
   ]
  },
  {
   "cell_type": "markdown",
   "metadata": {
    "slideshow": {
     "slide_type": "slide"
    }
   },
   "source": [
    "## イテレータを生成する関数\n",
    "\n",
    "Pythonの組込み関数や標準ライブラリには、イテレータを返す関数が数多くあります。\n",
    "その中には、関数を受け取る高階関数もあります。\n",
    "イテレータを生成・消費する関数の適用に分解してプログラムを記述することで、イテレータを介した関数プログラミングが行えるようになります。"
   ]
  },
  {
   "cell_type": "markdown",
   "metadata": {
    "slideshow": {
     "slide_type": "slide"
    }
   },
   "source": [
    "### map\n",
    "組込み関数の**`map()`**は、第1引数に取った関数を、第2引数に取ったイテラブルの各要素に適用した結果を走査するイテレータを返します。"
   ]
  },
  {
   "cell_type": "code",
   "execution_count": null,
   "metadata": {},
   "outputs": [],
   "source": [
    "print(*map(lambda x: x + 1, [1,-3,2,0]))"
   ]
  },
  {
   "cell_type": "markdown",
   "metadata": {},
   "source": [
    "より正確には、第1引数には、$n$引数関数（$n \\ge 1$）を取ることができ、第2引数以降に$n$個のイテラブルを渡すことができます。この時、一番小さい要素数に合わせて、結果のイテレータは切り詰められます。"
   ]
  },
  {
   "cell_type": "code",
   "execution_count": null,
   "metadata": {},
   "outputs": [],
   "source": [
    "# 異なるイテラブルを受け取れる\n",
    "print(*map(lambda x,y: x + y, [1,-3,2,0], (4,7,-6,5)))"
   ]
  },
  {
   "cell_type": "code",
   "execution_count": null,
   "metadata": {},
   "outputs": [],
   "source": [
    "# 結果のイテレータが切り詰められる\n",
    "print(*map(lambda x,y: x + y, range(1,10,2), range(1000000)))"
   ]
  },
  {
   "cell_type": "markdown",
   "metadata": {},
   "source": [
    "`map()`とラムダ式を組み合わせるよりも、3-3で紹介した内包表現（ジェネレータ式を含む）の方が簡潔になることも少なくありません。"
   ]
  },
  {
   "cell_type": "code",
   "execution_count": null,
   "metadata": {},
   "outputs": [],
   "source": [
    "print([x + 1 for x in  [1,-3,2,0]])  # リスト内包 "
   ]
  },
  {
   "cell_type": "code",
   "execution_count": null,
   "metadata": {},
   "outputs": [],
   "source": [
    "print(*(x + 1 for x in  [1,-3,2,0])) # ジェネレータ式（イテレータを返す）"
   ]
  },
  {
   "cell_type": "markdown",
   "metadata": {},
   "source": [
    "一方、既定義の関数を引数に渡すときには、`map()`の方が簡潔になります。\n",
    "その時々で、内包表記と比べてみて、より分かりやすい方を採用しましょう。"
   ]
  },
  {
   "cell_type": "markdown",
   "metadata": {
    "slideshow": {
     "slide_type": "slide"
    }
   },
   "source": [
    "#### 練習\n",
    "第1引数で与えられた要素数まで、第2引数に与えられたイテラブルを走査するイテレータを返す関数`take()`を、for文を使わずに、`map()`と`range()`を用いて定義せよ。例えば、`take(2, 'ACDB')`は、`A` `C`を走査するイテレータを返す。"
   ]
  },
  {
   "cell_type": "markdown",
   "metadata": {
    "slideshow": {
     "slide_type": "slide"
    }
   },
   "source": [
    "### filter\n",
    "組込み関数**`filter()`**は、第1引数に単項述語（真理値を返す1引数関数）を、第2引数にイテラブルを取り、その単項述語を真にする要素だけを順に生成するイテレータを返します。"
   ]
  },
  {
   "cell_type": "code",
   "execution_count": null,
   "metadata": {
    "slideshow": {
     "slide_type": "slide"
    }
   },
   "outputs": [],
   "source": [
    "print(*filter(lambda x: x % 2 == 0, range(8)))"
   ]
  },
  {
   "cell_type": "markdown",
   "metadata": {},
   "source": [
    "`filter()`は、制御構造の観点で見ると、continue文によるスキップを含んだfor文に対応します。\n",
    "continueを含んだfor文を使うときには、代わりに`filter()`を使うことができないか考えてみると良いでしょう。\n",
    "\n",
    "`map()`と同様に、素直に内包表現に書き換えられます。"
   ]
  },
  {
   "cell_type": "code",
   "execution_count": null,
   "metadata": {},
   "outputs": [],
   "source": [
    "print([x for x in range(8) if x % 2 == 0]) # リスト内包"
   ]
  },
  {
   "cell_type": "code",
   "execution_count": null,
   "metadata": {},
   "outputs": [],
   "source": [
    "print(*(x for x in range(8) if x % 2 == 0)) # ジェネレータ式（イテレータを返す）"
   ]
  },
  {
   "cell_type": "markdown",
   "metadata": {},
   "source": [
    "`filter()`とラムダ式を組み合わせるときや、`filter()`と`map()`を組み合わせるときは、内包表記を使った方が簡潔で分かりやすくなることが多いです。"
   ]
  },
  {
   "cell_type": "markdown",
   "metadata": {
    "slideshow": {
     "slide_type": "slide"
    }
   },
   "source": [
    "#### 練習\n",
    "ファイルオブジェクト（行単位のイテレータ）`f`を取って、その中の非空白行を順に生成するイテレータを返す関数`compactlines()`を、for文を使わずに、`filter()`を用いて定義せよ。\n",
    "\n",
    "ヒント：`s`が空白文字（改行を含む）からなる文字列であるとき、`s.strip()`は空文字列を返す。"
   ]
  },
  {
   "cell_type": "markdown",
   "metadata": {
    "slideshow": {
     "slide_type": "slide"
    }
   },
   "source": [
    "### enumerate\n",
    "3-2で紹介した組込み関数の**`enumerate()`**は、実はイテレータを返します。"
   ]
  },
  {
   "cell_type": "code",
   "execution_count": null,
   "metadata": {},
   "outputs": [],
   "source": [
    "it = enumerate('ACDB')\n",
    "print(it) # リストやタプルではない"
   ]
  },
  {
   "cell_type": "code",
   "execution_count": null,
   "metadata": {},
   "outputs": [],
   "source": [
    "print(*it)"
   ]
  },
  {
   "cell_type": "markdown",
   "metadata": {},
   "source": [
    "つまり、for文や内包表現に限定されず、イテレータを消費する関数と共に使えます。\n",
    "\n",
    "そして、`enumerate()`は、イテラブルを引数に取ります。つまり、イテレータも渡せます。\n",
    "したがって、計算結果のイテレータの各要素に番号付けすることにも利用できます。\n",
    "\n",
    "`enumerate()`の第2引数には番号付けの初期値を渡せます。"
   ]
  },
  {
   "cell_type": "code",
   "execution_count": null,
   "metadata": {},
   "outputs": [],
   "source": [
    "print(*enumerate('ACDB',1))"
   ]
  },
  {
   "cell_type": "markdown",
   "metadata": {},
   "source": [
    "`enumerate()`は、番号付けという汎用的なデータ変換を行う関数だったのです。"
   ]
  },
  {
   "cell_type": "markdown",
   "metadata": {
    "slideshow": {
     "slide_type": "slide"
    }
   },
   "source": [
    "### ▲zip\n",
    "組込み関数**`zip()`**は、`map()`の第1引数の関数が、タプル構築に固定されたものです。"
   ]
  },
  {
   "cell_type": "code",
   "execution_count": null,
   "metadata": {
    "slideshow": {
     "slide_type": "slide"
    }
   },
   "outputs": [],
   "source": [
    "print(*zip(range(1,10,2), range(1000000)))"
   ]
  },
  {
   "cell_type": "markdown",
   "metadata": {
    "slideshow": {
     "slide_type": "slide"
    }
   },
   "source": [
    "上に示したように、結果のイテレータの切り詰めも、同様に行われます。\n",
    "\n",
    "`zip()`は、`map()`の特殊形でしかないのですが、`map()`を内包表記に書き換えるときや、結果のイテレータをfor文で反復するときに、特に役立ちます。"
   ]
  },
  {
   "cell_type": "code",
   "execution_count": null,
   "metadata": {},
   "outputs": [],
   "source": [
    "print([x + y for x, y in zip(range(1,10,2), range(1000000))]) # リスト内包"
   ]
  },
  {
   "cell_type": "code",
   "execution_count": null,
   "metadata": {},
   "outputs": [],
   "source": [
    "print(*(x + y for x, y in zip(range(1,10,2), range(1000000)))) # ジェネレータ式（イテレータを返す）"
   ]
  },
  {
   "cell_type": "code",
   "execution_count": null,
   "metadata": {},
   "outputs": [],
   "source": [
    "for x, y in zip(range(1,10,2), range(1000000)): # for文で反復処理\n",
    "    print(x + y)"
   ]
  },
  {
   "cell_type": "markdown",
   "metadata": {},
   "source": [
    "`map()`とラムダ式を使うか、`zip()`と内包表記を使うかは、より分かりやすい方を、その時々で判断して選択しましょう。"
   ]
  },
  {
   "cell_type": "markdown",
   "metadata": {},
   "source": [
    "#### 練習\n",
    "イテラブルを取って、隣接要素対のイテレータを返す関数`adjpairs()`を、for文を使わずに`zip()`を使って定義せよ。\n",
    "例えば、`adjsum([1,-3,2,0])`は、`(1, -3)` `(-3, 2)` `(2, 0)`を走査するイテレータを返すことになる。"
   ]
  },
  {
   "cell_type": "markdown",
   "metadata": {
    "slideshow": {
     "slide_type": "slide"
    }
   },
   "source": [
    "### ▲reversed\n",
    "組込み関数**`reversed()`**は、シーケンス（文字列、リスト、タプルなど）を受け取って、それを逆順に走査するイテレータを返します。"
   ]
  },
  {
   "cell_type": "code",
   "execution_count": null,
   "metadata": {},
   "outputs": [],
   "source": [
    "print(*reversed('ABCD'))"
   ]
  },
  {
   "cell_type": "code",
   "execution_count": null,
   "metadata": {},
   "outputs": [],
   "source": [
    "print(*reversed([0,1,-2,3]))"
   ]
  },
  {
   "cell_type": "code",
   "execution_count": null,
   "metadata": {},
   "outputs": [],
   "source": [
    "print(*reversed((0,1,-2,3)))"
   ]
  },
  {
   "cell_type": "markdown",
   "metadata": {},
   "source": [
    "`reversed()`は、イテレータを取れないことに留意してください。\n",
    "シーケンスの詳細については、付録 iterable.ipynb を参照してください。"
   ]
  },
  {
   "cell_type": "markdown",
   "metadata": {
    "slideshow": {
     "slide_type": "slide"
    }
   },
   "source": [
    "#### 練習\n",
    "与えられたシーケンスを真ん中で折り畳んで閉じ合わせた（zipした）結果をイテレータで返す関数`clamshell()`を、for文を使わずに、`reversed()`と`take()`を使って定義せよ。\n",
    "ただし、シーケンスの長さが奇数であるとき、中央の要素は結果から除外されるものとする。\n",
    "例えば、`clamshell('ABCDE')`は、`(A,E)` `(B,D)`を走査するイテレータを返す。"
   ]
  },
  {
   "cell_type": "markdown",
   "metadata": {},
   "source": [
    "### ▲chain\n",
    "`itertools`モジュールから、特に有用なものを1つ紹介します。\n",
    "**`itertools.chain()`**は、与えられた任意個のイテラブルを連結します。"
   ]
  },
  {
   "cell_type": "code",
   "execution_count": null,
   "metadata": {},
   "outputs": [],
   "source": [
    "import itertools\n",
    "# 異なるデータ型を連結したイテレータ\n",
    "it = itertools.chain(range(3),       # rangeオブジェクト\n",
    "                     'abc',          # 文字列\n",
    "                     list('def'),    # リスト\n",
    "                     tuple('ghi'),   # タプル\n",
    "                     iter(range(3))) # イテレータ\n",
    "print(*it)"
   ]
  },
  {
   "cell_type": "markdown",
   "metadata": {},
   "source": [
    "ここで重要なのは、これら異なる5種類のデータ型に対する`+`の連結は、いずれもエラーになるということです。\n",
    "`chain()`は、それぞれのイテラブルから作り出したイテレータを連結するので、データ型の違いが問題になりません。\n",
    "\n",
    "関連して、与えられた1つのイテラブルの要素を連結する関数**`itertools.chain.from_iterable()`**もあります。"
   ]
  },
  {
   "cell_type": "code",
   "execution_count": null,
   "metadata": {},
   "outputs": [],
   "source": [
    "print(*itertools.chain.from_iterable([range(3),         # rangeオブジェクト\n",
    "                                      'abc',            # 文字列\n",
    "                                      list('def'),      # リスト\n",
    "                                      tuple('ghi'),     # タプル\n",
    "                                      iter(range(3))])) # イテレータ"
   ]
  },
  {
   "cell_type": "markdown",
   "metadata": {},
   "source": [
    "`chain()`が典型的によく使われる局面は、ファイルデータの操作です。\n",
    "```Python\n",
    "f = itertools.chain(open('input1'), open('input2'))\n",
    "```\n",
    "この`f`は、ファイル`input1`と`input2`を連結したファイルのように振る舞うイテレータです。\n",
    "これは新しいファイルを作らないので、実際にファイル連結を行うよりも、大変効率が良いです。\n",
    "また、\n",
    "```Python\n",
    "it = itertools.chain.from_iterable(f) # fはファイルのようなイテレータ\n",
    "```\n",
    "とすると、`f`の各行を、全て連結したような文字列のイテレータ`it`を構築できます。\n",
    "これは、`''.join(f)`で文字列結合したり、（`f`がファイルオブジェクトの場合）`f.read()`でファイル全体を読み込んで文字列を構成するよりも、大変効率が良いです。\n",
    "\n",
    "**`itertools`**モジュールは、他にも有用なイテレータ生成関数を数多く提供しています。\n",
    "詳しくは、[公式ドキュメント](https://docs.python.org/ja/3/library/itertools.html)を参照してください。"
   ]
  },
  {
   "cell_type": "markdown",
   "metadata": {
    "slideshow": {
     "slide_type": "slide"
    }
   },
   "source": [
    "## ▲**関数内関数**（クロージャ）\n",
    "関数内で定義された関数（ラムダ式を含む）からは、外側のローカル変数を参照できます。"
   ]
  },
  {
   "cell_type": "code",
   "execution_count": null,
   "metadata": {
    "slideshow": {
     "slide_type": "slide"
    }
   },
   "outputs": [],
   "source": [
    "def outer(x):\n",
    "    def inner():\n",
    "        return x\n",
    "    return inner\n",
    "\n",
    "f = outer(1)\n",
    "f()"
   ]
  },
  {
   "cell_type": "code",
   "execution_count": null,
   "metadata": {},
   "outputs": [],
   "source": [
    "g = outer(2)\n",
    "g()"
   ]
  },
  {
   "cell_type": "markdown",
   "metadata": {},
   "source": [
    "グローバル変数がそうであるように、外側の関数のローカル変数についても、内側の関数からは再定義が（基本的に）できません。\n",
    "しかし、外側の関数では再定義できるので、注意が必要です。"
   ]
  },
  {
   "cell_type": "code",
   "execution_count": null,
   "metadata": {},
   "outputs": [],
   "source": [
    "def outer(x):\n",
    "    def inner():\n",
    "        return x\n",
    "    x = -x # inner()が参照する変数xを再定義\n",
    "    return inner\n",
    "\n",
    "f = outer(1)\n",
    "f()"
   ]
  },
  {
   "cell_type": "markdown",
   "metadata": {},
   "source": [
    "それ故に、関数を返す高階関数を記述するときには、変数定義に対してとても慎重になる必要があります。\n",
    "\n",
    "そういう事情も含めて、関数を返す高階関数を正しく定義するのは難しいので、自分で定義せずに既存の関数を使うだけにするのが無難でしょう。"
   ]
  },
  {
   "cell_type": "markdown",
   "metadata": {},
   "source": [
    "## 練習の解答"
   ]
  },
  {
   "cell_type": "code",
   "execution_count": null,
   "metadata": {},
   "outputs": [],
   "source": [
    "ls = [('A', 1), ('B', 3), ('C', -1), ('D', 0)]\n",
    "sorted(ls, key=lambda x: -x[1])"
   ]
  },
  {
   "cell_type": "code",
   "execution_count": null,
   "metadata": {},
   "outputs": [],
   "source": [
    "max([1,3,-2,0], key=lambda x: -x)"
   ]
  },
  {
   "cell_type": "code",
   "execution_count": null,
   "metadata": {},
   "outputs": [],
   "source": [
    "def tailmax(xs):\n",
    "    it = iter(xs)\n",
    "    next(it) # 先頭要素を捨てる\n",
    "    return max(it)\n",
    "\n",
    "print(tailmax([3,-4,2,1]) == 2)\n",
    "print(tailmax((3,-4,2,1)) == 2)\n",
    "print(tailmax('ACDC') == 'D')"
   ]
  },
  {
   "cell_type": "code",
   "execution_count": null,
   "metadata": {
    "scrolled": true
   },
   "outputs": [],
   "source": [
    "def take(n, xs):\n",
    "    return map(lambda x, i: x, xs, range(n))\n",
    "\n",
    "print(*take(2, 'ACDB'))"
   ]
  },
  {
   "cell_type": "code",
   "execution_count": null,
   "metadata": {},
   "outputs": [],
   "source": [
    "def compactlines(f):\n",
    "    return filter(lambda x: x.strip() != '', f)\n",
    "    \n",
    "fname = 'compactlines_input.txt'\n",
    "fcontents = \"\"\"\n",
    "\n",
    "to be\n",
    "\n",
    "compacted.\n",
    "\n",
    "\n",
    "\"\"\"\n",
    "print(fcontents, file=open(fname, 'w'))\n",
    "print(list(compactlines(open(fname)))) "
   ]
  },
  {
   "cell_type": "code",
   "execution_count": null,
   "metadata": {
    "scrolled": false
   },
   "outputs": [],
   "source": [
    "def adjpairs(xs):\n",
    "    it = iter(xs)\n",
    "    next(it) # 1つ前にずらす\n",
    "    return zip(xs, it)\n",
    "\n",
    "print(*adjpairs([1,-3,2,0]))"
   ]
  },
  {
   "cell_type": "code",
   "execution_count": null,
   "metadata": {},
   "outputs": [],
   "source": [
    "def clamshell(xs):\n",
    "    return take(len(xs)//2, zip(xs, reversed(xs)))\n",
    "\n",
    "print(*clamshell('ABCDE'))"
   ]
  }
 ],
 "metadata": {
  "kernelspec": {
   "display_name": "Python 3",
   "language": "python",
   "name": "python3"
  },
  "language_info": {
   "codemirror_mode": {
    "name": "ipython",
    "version": 3
   },
   "file_extension": ".py",
   "mimetype": "text/x-python",
   "name": "python",
   "nbconvert_exporter": "python",
   "pygments_lexer": "ipython3",
   "version": "3.6.8"
  }
 },
 "nbformat": 4,
 "nbformat_minor": 2
}
