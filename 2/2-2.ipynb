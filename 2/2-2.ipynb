{
 "cells": [
  {
   "cell_type": "markdown",
   "metadata": {
    "slideshow": {
     "slide_type": "slide"
    }
   },
   "source": [
    "# 2-2. リスト型 (list)\n",
    "複数のデータ要素をまとめて取り扱うリスト型とタプル型について説明します。\n",
    "\n",
    "参考\n",
    "\n",
    "- https://docs.python.org/ja/3/tutorial/introduction.html#lists\n",
    "- https://docs.python.org/ja/3/tutorial/datastructures.html#tuples-and-sequences\n",
    "\n",
    "文字列を構成する要素は文字のみでしたが、**リスト型**では構成する要素としてあらゆるデータ型を指定できます。  \n",
    "他の言語ではリストに相当するものとして **配列**やアレイなどがあります。\n",
    "\n",
    "リストを記述するには、リストを構成する要素をコンマで区切り全体をかぎ括弧、`[...]` で囲みます。  \n",
    "\n",
    "以下のセルでは数値型を要素とするリストを作成しています。  \n",
    "さらに、文字列と同様に組み込み関数 `type` で変数がリストであることを確認しています。"
   ]
  },
  {
   "cell_type": "code",
   "execution_count": null,
   "metadata": {},
   "outputs": [],
   "source": [
    "numbers = [0, 10, 20, 30, 40, 50]\n",
    "numbers"
   ]
  },
  {
   "cell_type": "code",
   "execution_count": null,
   "metadata": {
    "slideshow": {
     "slide_type": "skip"
    }
   },
   "outputs": [],
   "source": [
    "type(numbers)"
   ]
  },
  {
   "cell_type": "markdown",
   "metadata": {
    "slideshow": {
     "slide_type": "slide"
    }
   },
   "source": [
    "次に文字列を構成要素とするリストを作成してみます。"
   ]
  },
  {
   "cell_type": "code",
   "execution_count": null,
   "metadata": {},
   "outputs": [],
   "source": [
    "fruits = ['apple', 'banana', 'chelly']\n",
    "fruits"
   ]
  },
  {
   "cell_type": "markdown",
   "metadata": {
    "slideshow": {
     "slide_type": "skip"
    }
   },
   "source": [
    "リストの要素としてあらゆるデータ型を指定でき、それらは混在してもかまいません。  \n",
    "以下のセルでは、数値と文字列が混在しています。"
   ]
  },
  {
   "cell_type": "code",
   "execution_count": null,
   "metadata": {
    "slideshow": {
     "slide_type": "skip"
    }
   },
   "outputs": [],
   "source": [
    "numbers_fruits = [10, 'apple', 20, 'banana', 30]\n",
    "numbers_fruits"
   ]
  },
  {
   "cell_type": "markdown",
   "metadata": {},
   "source": [
    "次のように、何も要素を格納していないリスト（**空リスト**）を作成できます。  \n",
    "空リストはプログラム実行の途中結果を記録する場合などによく使われています。  \n",
    "具体的な例として、後述する`append`メソッドの項を参照して下さい。"
   ]
  },
  {
   "cell_type": "code",
   "execution_count": null,
   "metadata": {},
   "outputs": [],
   "source": [
    "empty=[]\n",
    "empty"
   ]
  },
  {
   "cell_type": "markdown",
   "metadata": {
    "slideshow": {
     "slide_type": "slide"
    }
   },
   "source": [
    "## リストとインデックス\n",
    "文字列の場合と同様、リストからインデックスが指定する要素をとりだせます。  \n",
    "リストの x 番目の要素を取得するには次のようにします。インデックスは 0 から始まることに注意してください。\n",
    "\n",
    "```Python\n",
    "リスト[x-1]\n",
    "```"
   ]
  },
  {
   "cell_type": "code",
   "execution_count": null,
   "metadata": {},
   "outputs": [],
   "source": [
    "abcd = ['a', 'b', 'c', 'd']\n",
    "abcd[2]"
   ]
  },
  {
   "cell_type": "code",
   "execution_count": null,
   "metadata": {},
   "outputs": [],
   "source": [
    "文字列と同様に、スライスを使った範囲指定も可能です。"
   ]
  },
  {
   "cell_type": "code",
   "execution_count": null,
   "metadata": {},
   "outputs": [],
   "source": [
    "abcd = ['a', 'b', 'c', 'd']\n",
    "abcd[1:3]"
   ]
  },
  {
   "cell_type": "markdown",
   "metadata": {
    "slideshow": {
     "slide_type": "slide"
    }
   },
   "source": [
    "---\n",
    "\n",
    "文字列の場合とは異なり、リストは変更可能なデータ型です。  \n",
    "すなわちインデックスで指定されるリストの要素は代入によって変更できます。"
   ]
  },
  {
   "cell_type": "code",
   "execution_count": null,
   "metadata": {},
   "outputs": [],
   "source": [
    "abcd = ['a', 'b', 'c', 'd']\n",
    "abcd[2] = 'hello'\n",
    "abcd"
   ]
  },
  {
   "cell_type": "markdown",
   "metadata": {
    "slideshow": {
     "slide_type": "slide"
    }
   },
   "source": [
    "## **多重リスト**\n",
    "リストの要素としてリストを指定することもできます。次は二重リストの例です。"
   ]
  },
  {
   "cell_type": "code",
   "execution_count": null,
   "metadata": {},
   "outputs": [],
   "source": [
    "lns = [[1, 2, 3], [10, 20, 30], ['a', 'b', 'c']]"
   ]
  },
  {
   "cell_type": "markdown",
   "metadata": {},
   "source": [
    "多重リストの要素指定は複数のインデックスでおこないます。  \n",
    "前の例で外側の `[]` で示されるリストの 2 番目の要素のリスト、すなわち `[10, 20, 30]`、の最初の要素は次のように指定します。 "
   ]
  },
  {
   "cell_type": "code",
   "execution_count": null,
   "metadata": {},
   "outputs": [],
   "source": [
    "lns[1][0]"
   ]
  },
  {
   "cell_type": "markdown",
   "metadata": {},
   "source": [
    "3 番目のリストそのものを取り出したいときは、次のように指定します。"
   ]
  },
  {
   "cell_type": "code",
   "execution_count": null,
   "metadata": {},
   "outputs": [],
   "source": [
    "lns[2]"
   ]
  },
  {
   "cell_type": "markdown",
   "metadata": {},
   "source": [
    "以下のようにリストの要素として、リスト型の変数を指定することもできます。"
   ]
  },
  {
   "cell_type": "code",
   "execution_count": null,
   "metadata": {},
   "outputs": [],
   "source": [
    "lns2 = [lns, ['x', 1, [11, 12, 13]], ['y', [100, 120, 140]] ]\n",
    "lns2[0]"
   ]
  },
  {
   "cell_type": "code",
   "execution_count": null,
   "metadata": {},
   "outputs": [],
   "source": [
    "lns2[1][2]"
   ]
  },
  {
   "cell_type": "markdown",
   "metadata": {},
   "source": [
    "## リストに対する関数・演算子・メソッド\n",
    "\n",
    "### リストの要素数\n",
    "\n",
    "組み込み関数 **`len`** はリストの長さ、すなわち要素数、を返します。"
   ]
  },
  {
   "cell_type": "code",
   "execution_count": null,
   "metadata": {},
   "outputs": [],
   "source": [
    "numbers = [0, 10, 20, 30, 40, 50]\n",
    "len(numbers)"
   ]
  },
  {
   "cell_type": "code",
   "execution_count": null,
   "metadata": {
    "slideshow": {
     "slide_type": "skip"
    }
   },
   "outputs": [],
   "source": [
    "numbers[2:4] # スライス"
   ]
  },
  {
   "cell_type": "markdown",
   "metadata": {},
   "source": [
    "### リストと演算子"
   ]
  },
  {
   "cell_type": "markdown",
   "metadata": {},
   "source": [
    "演算子 **`+`** によってリストの連結、**`*`** によって連結における繰り返し回数を指定することができます。"
   ]
  },
  {
   "cell_type": "code",
   "execution_count": null,
   "metadata": {},
   "outputs": [],
   "source": [
    "numbers = [0, 10, 20, 30, 40, 50]\n",
    "numbers + ['a', 'b', 'c']"
   ]
  },
  {
   "cell_type": "code",
   "execution_count": null,
   "metadata": {},
   "outputs": [],
   "source": [
    "numbers*3"
   ]
  },
  {
   "cell_type": "markdown",
   "metadata": {},
   "source": [
    "要素がすべて 0 のリストを作る最も簡単な方法は、この `*` 演算子を使う方法です。"
   ]
  },
  {
   "cell_type": "code",
   "execution_count": null,
   "metadata": {},
   "outputs": [],
   "source": [
    "zero10= [0] * 10\n",
    "zero10"
   ]
  },
  {
   "cell_type": "markdown",
   "metadata": {},
   "source": [
    "演算子 **`in`** は左辺の要素がリストに含まれれば `True` を、それ以外では `False` を返します。"
   ]
  },
  {
   "cell_type": "code",
   "execution_count": null,
   "metadata": {},
   "outputs": [],
   "source": [
    "10 in numbers"
   ]
  },
  {
   "cell_type": "markdown",
   "metadata": {},
   "source": [
    "リストに対する `in`演算子は、論理演算`or` を簡潔に記述するのに用いることもできます。 例えば、\n",
    "\n",
    "---\n",
    "```Python\n",
    "a1 == 1 or a1 == 3 or a1 == 7:\n",
    "```\n",
    "---\n",
    "\n",
    "は\n",
    "\n",
    "---\n",
    "```Python\n",
    "a1 in [1, 3, 7]:\n",
    "```\n",
    "---\n",
    "\n",
    "と同じ結果を得られます。 `or` の数が多くなる場合は、`in` を用いた方がより読みやすいプログラムを書くことができます。"
   ]
  },
  {
   "cell_type": "code",
   "execution_count": null,
   "metadata": {},
   "outputs": [],
   "source": [
    "a1 = 1\n",
    "print(a1 == 1 or a1 == 3 or a1 == 7, a1 in [1, 3, 7])\n",
    "a1 = 3\n",
    "print(a1 == 1 or a1 == 3 or a1 == 7, a1 in [1, 3, 7])\n",
    "a1 = 5\n",
    "print(a1 == 1 or a1 == 3 or a1 == 7, a1 in [1, 3, 7])"
   ]
  },
  {
   "cell_type": "markdown",
   "metadata": {},
   "source": [
    "### 指定した要素のインデックス取得、数えあげ\n",
    "\n",
    "**`index`** メソッドは引数で指定した要素のインデックス番号を返します。  \n",
    "文字列には `index` に加えてこれと似た `find` メソッドもありましたが、リストでは使えません。"
   ]
  },
  {
   "cell_type": "code",
   "execution_count": null,
   "metadata": {
    "slideshow": {
     "slide_type": "slide"
    }
   },
   "outputs": [],
   "source": [
    "numbers = [0, 10, 20, 30, 40, 50]\n",
    "numbers.index(20) "
   ]
  },
  {
   "cell_type": "markdown",
   "metadata": {},
   "source": [
    "**`count`** メソッドは指定した要素の数を返します。"
   ]
  },
  {
   "cell_type": "code",
   "execution_count": null,
   "metadata": {},
   "outputs": [],
   "source": [
    "all20 = [20]*3\n",
    "all20.count(20) # 指定した要素のリスト内の数"
   ]
  },
  {
   "cell_type": "markdown",
   "metadata": {},
   "source": [
    "### 並べ替え(**`sort`** メソッド)\n",
    "\n",
    "`sort` メソッドはリスト内の要素を並べ替えます。\n",
    "引数になにも指定しなければ昇順でとなります。"
   ]
  },
  {
   "cell_type": "code",
   "execution_count": null,
   "metadata": {},
   "outputs": [],
   "source": [
    "numbers = [30, 50, 10, 20, 40, 60]\n",
    "numbers.sort()"
   ]
  },
  {
   "cell_type": "code",
   "execution_count": null,
   "metadata": {},
   "outputs": [],
   "source": [
    "numbers"
   ]
  },
  {
   "cell_type": "code",
   "execution_count": null,
   "metadata": {},
   "outputs": [],
   "source": [
    "chracters = ['e', 'd', 'a', 'c', 'f', 'b']\n",
    "chracters .sort()\n",
    "chracters"
   ]
  },
  {
   "cell_type": "markdown",
   "metadata": {},
   "source": [
    "`reverse = True` オプションを指定すれば、要素を降順に並べ替えることもできます。"
   ]
  },
  {
   "cell_type": "code",
   "execution_count": null,
   "metadata": {},
   "outputs": [],
   "source": [
    "numbers = [30, 50, 10, 20, 40, 60]\n",
    "numbers.sort(reverse = True)\n",
    "numbers"
   ]
  },
  {
   "cell_type": "markdown",
   "metadata": {
    "slideshow": {
     "slide_type": "slide"
    }
   },
   "source": [
    "### 並べ替え(**`sorted`** 組み込み関数)\n",
    "\n",
    "関数 `soted` ではリストを引数に取って、そのリスト内の要素を昇順に並べ替えた結果をリストとして返します。\n",
    "\n",
    "---\n",
    "```Python\n",
    "sorted(リスト)\n",
    "```\n",
    "---"
   ]
  },
  {
   "cell_type": "code",
   "execution_count": null,
   "metadata": {},
   "outputs": [],
   "source": [
    "numbers = [30, 50, 10, 20, 40, 60]\n",
    "sorted(numbers)"
   ]
  },
  {
   "cell_type": "code",
   "execution_count": null,
   "metadata": {},
   "outputs": [],
   "source": [
    "characters = ['e', 'd', 'a', 'c', 'f', 'b']\n",
    "sorted(characters )"
   ]
  },
  {
   "cell_type": "markdown",
   "metadata": {},
   "source": [
    "`sorted` においても、 `reverse = True` と記述することで要素を降順に並べ替えることができます。"
   ]
  },
  {
   "cell_type": "code",
   "execution_count": null,
   "metadata": {},
   "outputs": [],
   "source": [
    "numbers = [30, 50, 10, 20, 40, 60]\n",
    "sorted(numbers, reverse=True)"
   ]
  },
  {
   "cell_type": "markdown",
   "metadata": {},
   "source": [
    "ついでですが、多重リストをソートするとどの様な結果が得られるか確かめてみて下さい。"
   ]
  },
  {
   "cell_type": "code",
   "execution_count": null,
   "metadata": {},
   "outputs": [],
   "source": [
    "lns = [[20, 5], [10, 30], [40, 20], [30, 10]]\n",
    "lns.sort()\n",
    "lns"
   ]
  },
  {
   "cell_type": "markdown",
   "metadata": {},
   "source": [
    "## 破壊的（インプレース）な操作と非破壊的な生成"
   ]
  },
  {
   "cell_type": "markdown",
   "metadata": {},
   "source": [
    "上記では、sortメソッドとsorted関数を紹介しましたが、両者の使い方が異なることに気が付きましたか？\n",
    "\n",
    "具体的には、sortメソッドは元のリストの値が変更されています。一方、sorted関数は元のリストの値はそのままになっています。もう一度確認してみましょう。"
   ]
  },
  {
   "cell_type": "code",
   "execution_count": null,
   "metadata": {},
   "outputs": [],
   "source": [
    "numbers = [30, 50, 10, 20, 40, 60]\n",
    "numbers.sort()\n",
    "print('sortメソッドの実行後の元のリスト:', numbers)\n",
    "numbers = [30, 50, 10, 20, 40, 60]\n",
    "sorted(numbers)\n",
    "print('sorted関数の実行後の元のリスト:', numbers)"
   ]
  },
  {
   "cell_type": "markdown",
   "metadata": {},
   "source": [
    "この様に、`sort` メソッドは元のリストの値を書き換えてしまいます。この様な操作を **破壊的** あるいは **インプレース** (**in-place**)であるといいます。  \n",
    "一方、sorted関数は新しいリストを生成し元のリストを破壊しません、このような操作は **非破壊的** であるといいます。"
   ]
  },
  {
   "cell_type": "markdown",
   "metadata": {},
   "source": [
    "sorted関数を用いた場合、その返り値（並べ替えの結果）は新しい変数に代入して使うことができます。  \n",
    "一方、sortメソッドはリストを返さないためそのような使い方はできません。"
   ]
  },
  {
   "cell_type": "code",
   "execution_count": null,
   "metadata": {},
   "outputs": [],
   "source": [
    "numbers = [30, 50, 10, 20, 40, 60]\n",
    "numbers1 = sorted(numbers)\n",
    "print('sorted関数の返り値:', numbers1)\n",
    "\n",
    "numbers = [30, 50, 10, 20, 40, 60]\n",
    "numbers2 = numbers.sort()\n",
    "print('sortメソッドの返り値:', numbers2)"
   ]
  },
  {
   "cell_type": "markdown",
   "metadata": {
    "slideshow": {
     "slide_type": "slide"
    }
   },
   "source": [
    "### リストを操作するメソッドなど\n",
    "\n",
    "ここからはリストを操作するためのメソッドなどを紹介していきます。  \n",
    "メソッドや組み込み関数が破壊的であるかどうかは、一般にその名称などからは判断できません。それぞれ破壊的かどうか理解してから利用しなければなりません。\n",
    "\n",
    "### リストに要素を追加する\n",
    "\n",
    "**`append`** メソッドはリストの最後尾に指定した要素を付け加えます。\n",
    "\n",
    "---\n",
    "```Python\n",
    "リスト.append(追加する要素) \n",
    "```\n",
    "---"
   ]
  },
  {
   "cell_type": "code",
   "execution_count": null,
   "metadata": {},
   "outputs": [],
   "source": [
    "numbers = [10, 20, 30, 40, 50]\n",
    "numbers.append(100)\n",
    "numbers"
   ]
  },
  {
   "cell_type": "markdown",
   "metadata": {},
   "source": [
    "`append` は、上述した空のリストと組み合わせて、あるリストから特定の条件を満たす要素のみからなる新たなリストを構成する、という様な状況でしばしば用いられます。例えば、リスト `ln1 = [10, -10, 20, 30, -20, 40, -30]` から 0 より大きい要素のみを抜き出したリスト `ln2` は次の様に構成することができます。"
   ]
  },
  {
   "cell_type": "code",
   "execution_count": null,
   "metadata": {},
   "outputs": [],
   "source": [
    "numbers1 = [10, -10, 20, 30, -20, 40, -30] \n",
    "positives = [] # 空のリストを作成する\n",
    "positives.append(numbers1[0])\n",
    "positives.append(numbers1[2])\n",
    "positives.append(numbers1[3])\n",
    "positives.append(numbers1[5])\n",
    "positives"
   ]
  },
  {
   "cell_type": "markdown",
   "metadata": {
    "slideshow": {
     "slide_type": "slide"
    }
   },
   "source": [
    "### ▲リストにリストを追加する\n",
    "\n",
    " **`extend`** メソッドはリストの最後尾に指定したリストを付け加えます。\n",
    "\n",
    "---\n",
    "```Python\n",
    "リスト.extend(追加するリスト) \n",
    "```\n",
    "---"
   ]
  },
  {
   "cell_type": "code",
   "execution_count": null,
   "metadata": {},
   "outputs": [],
   "source": [
    "numbers = [10, 20, 30, 40, 50]\n",
    "numbers.extend([200, 300, 400, 200]) # ln + [200, 300, 400, 200]と同じ\n",
    "numbers"
   ]
  },
  {
   "cell_type": "markdown",
   "metadata": {
    "slideshow": {
     "slide_type": "slide"
    }
   },
   "source": [
    "### ▲リストに要素を挿入する\n",
    "\n",
    "**insert** メソッドはリストのインデックスを指定した位置に新しい要素を挿入します。  \n",
    "\n",
    "---\n",
    "```Python\n",
    "リスト.insert(インデックス, 新しい要素)\n",
    "```\n",
    "---"
   ]
  },
  {
   "cell_type": "code",
   "execution_count": null,
   "metadata": {},
   "outputs": [],
   "source": [
    "numbers = [10, 20, 30, 40, 50]\n",
    "numbers.insert(1, 1000)\n",
    "numbers"
   ]
  },
  {
   "cell_type": "markdown",
   "metadata": {
    "slideshow": {
     "slide_type": "slide"
    }
   },
   "source": [
    "### ▲リストから要素を削除する\n",
    "\n",
    "**`remove`** メソッドは指定した要素をリストから削除します。  \n",
    "\n",
    "---\n",
    "```Python\n",
    "リスト.remove(削除したい要素)\n",
    "```\n",
    "---\n",
    "\n",
    "ただし、指定した要素が複数個リストに含まれる場合、一番最初の要素が削除されます。また、指定した値がリストに含まれない場合はエラーとなります。"
   ]
  },
  {
   "cell_type": "code",
   "execution_count": null,
   "metadata": {
    "slideshow": {
     "slide_type": "slide"
    }
   },
   "outputs": [],
   "source": [
    "numbers = [10, 20, 30, 40, 20] \n",
    "numbers.remove(30) # 指定した要素を削除\n",
    "numbers"
   ]
  },
  {
   "cell_type": "code",
   "execution_count": null,
   "metadata": {},
   "outputs": [],
   "source": [
    "numbers.remove(20) # 指定した要素が複数個リストに含まれる場合、一番最初の要素を削除\n",
    "numbers"
   ]
  },
  {
   "cell_type": "code",
   "execution_count": null,
   "metadata": {},
   "outputs": [],
   "source": [
    "numbers.remove(100) # リストに含まれない値を指定するとエラー"
   ]
  },
  {
   "cell_type": "markdown",
   "metadata": {
    "slideshow": {
     "slide_type": "slide"
    }
   },
   "source": [
    "### ▲リストからインデックスで指定した要素を削除する\n",
    "\n",
    "**`pop`** メソッドはリストから指定したインデックスを削除し、その要素を返します。\n",
    "\n",
    "---\n",
    "```Python\n",
    "リスト.pop(削除したい要素のインデックス)\n",
    "```\n",
    "---"
   ]
  },
  {
   "cell_type": "code",
   "execution_count": null,
   "metadata": {
    "slideshow": {
     "slide_type": "-"
    }
   },
   "outputs": [],
   "source": [
    "numbers = [10, 20, 20, 30, 20, 40]\n",
    "print(numbers.pop(3))\n",
    "print(numbers)"
   ]
  },
  {
   "cell_type": "markdown",
   "metadata": {
    "slideshow": {
     "slide_type": "slide"
    }
   },
   "source": [
    "インデックスを指定しない場合、最後尾の要素を削除して返します。\n",
    "\n",
    "---\n",
    "```Python\n",
    "リスト.pop()\n",
    "```\n",
    "---"
   ]
  },
  {
   "cell_type": "code",
   "execution_count": null,
   "metadata": {},
   "outputs": [],
   "source": [
    "ln = [10, 20, 30, 20, 40]\n",
    "print(ln.pop())\n",
    "print(ln)"
   ]
  },
  {
   "cell_type": "markdown",
   "metadata": {
    "slideshow": {
     "slide_type": "slide"
    }
   },
   "source": [
    "### ▲リスト要素を削除する\n",
    "\n",
    "**`del`** 文は指定するリストの要素を削除します。具体的には以下のように削除したい要素をインデックスで指定します。  \n",
    "`del` も破壊的であることに注意して下さい。\n",
    "\n",
    "---\n",
    "```Python\n",
    "del リスト[x]\n",
    "```\n",
    "---"
   ]
  },
  {
   "cell_type": "code",
   "execution_count": null,
   "metadata": {},
   "outputs": [],
   "source": [
    "numbers = [10, 20, 30, 40, 50]\n",
    "del numbers[2]\n",
    "numbers"
   ]
  },
  {
   "cell_type": "markdown",
   "metadata": {
    "slideshow": {
     "slide_type": "slide"
    }
   },
   "source": [
    "スライスを使うことも可能です。\n",
    "\n",
    "---\n",
    "```Python\n",
    "del リスト[x:y]\n",
    "```\n",
    "---\n"
   ]
  },
  {
   "cell_type": "code",
   "execution_count": null,
   "metadata": {},
   "outputs": [],
   "source": [
    "numbers = [10, 20, 30, 40, 50]\n",
    "del numbers[2:4]\n",
    "numbers"
   ]
  },
  {
   "cell_type": "markdown",
   "metadata": {
    "slideshow": {
     "slide_type": "slide"
    }
   },
   "source": [
    "### ▲リストの要素を逆順にする\n",
    "\n",
    "**`reverse`** メソッドはリスト内の要素の順序を逆順にします。"
   ]
  },
  {
   "cell_type": "code",
   "execution_count": null,
   "metadata": {
    "slideshow": {
     "slide_type": "slide"
    }
   },
   "outputs": [],
   "source": [
    "characters = ['e', 'd', 'a', 'c', 'f', 'b']\n",
    "characters.reverse()\n",
    "characters"
   ]
  },
  {
   "cell_type": "markdown",
   "metadata": {
    "slideshow": {
     "slide_type": "skip"
    }
   },
   "source": [
    "### ▲**copy**\n",
    "リストを複製します。複製をおこなったあとで、一方のリストに変更を加えたとしても、もう一方のリストは影響を受けません。"
   ]
  },
  {
   "cell_type": "code",
   "execution_count": null,
   "metadata": {
    "slideshow": {
     "slide_type": "skip"
    }
   },
   "outputs": [],
   "source": [
    "numbers = [10, 20, 30, 40, 50]\n",
    "numbers2 = numbers.copy()\n",
    "del numbers[1:3]\n",
    "numbers.reverse()\n",
    "print(numbers)\n",
    "print(numbers2)"
   ]
  },
  {
   "cell_type": "markdown",
   "metadata": {
    "slideshow": {
     "slide_type": "skip"
    }
   },
   "source": [
    "一方、代入を用いた場合には影響を受けることに注意して下さい。"
   ]
  },
  {
   "cell_type": "code",
   "execution_count": null,
   "metadata": {
    "slideshow": {
     "slide_type": "skip"
    }
   },
   "outputs": [],
   "source": [
    "numbers = [10, 20, 30, 40, 50]\n",
    "numbers2 = numbers\n",
    "del numbers[1:3]\n",
    "numbers.reverse()\n",
    "print(numbers)\n",
    "print(numbers2)"
   ]
  },
  {
   "cell_type": "markdown",
   "metadata": {},
   "source": []
  },
  {
   "cell_type": "markdown",
   "metadata": {
    "slideshow": {
     "slide_type": "slide"
    }
   },
   "source": [
    "## タプル型(tuple)\n",
    "\n",
    "**タプル型**は、リストと同じようにデータの並びであり、あらゆる種類のデータを要素にできます。\n",
    "ただし、リストと違ってタプルは一度設定した要素を変更できません（文字列も同様でした）。\n",
    "したがって、リストの項で説明したメソッドの多く、要素を操作するもの、は適用できません。\n",
    "\n",
    "タプルを作成するには、次のように丸括弧 `(...)`で要素を囲みます。"
   ]
  },
  {
   "cell_type": "code",
   "execution_count": null,
   "metadata": {},
   "outputs": [],
   "source": [
    "numbers3 = (1, 2, 3)\n",
    "numbers3"
   ]
  },
  {
   "cell_type": "code",
   "execution_count": null,
   "metadata": {
    "slideshow": {
     "slide_type": "skip"
    }
   },
   "outputs": [],
   "source": [
    "type(numbers3)"
   ]
  },
  {
   "cell_type": "markdown",
   "metadata": {
    "slideshow": {
     "slide_type": "slide"
    }
   },
   "source": [
    "実は、丸括弧なしでもタプルを作成できます。"
   ]
  },
  {
   "cell_type": "code",
   "execution_count": null,
   "metadata": {},
   "outputs": [],
   "source": [
    "numbers3 = 1,2,3\n",
    "numbers3"
   ]
  },
  {
   "cell_type": "markdown",
   "metadata": {
    "slideshow": {
     "slide_type": "slide"
    }
   },
   "source": [
    "要素が1つだけの場合は、 `t = (1)` ではなく、次のようにします。"
   ]
  },
  {
   "cell_type": "code",
   "execution_count": null,
   "metadata": {},
   "outputs": [],
   "source": [
    "onlyone = (1,)\n",
    "onlyone"
   ]
  },
  {
   "cell_type": "markdown",
   "metadata": {},
   "source": [
    "`t = (1)` だと、`t = 1` と同じです。"
   ]
  },
  {
   "cell_type": "code",
   "execution_count": null,
   "metadata": {},
   "outputs": [],
   "source": [
    "onlyone = (1)\n",
    "onlyone"
   ]
  },
  {
   "cell_type": "markdown",
   "metadata": {},
   "source": [
    "何も要素を格納していないタプル（**空タプル**）は `()` で作成できます。"
   ]
  },
  {
   "cell_type": "code",
   "execution_count": null,
   "metadata": {},
   "outputs": [],
   "source": [
    "empty = ()\n",
    "empty"
   ]
  },
  {
   "cell_type": "markdown",
   "metadata": {
    "slideshow": {
     "slide_type": "slide"
    }
   },
   "source": [
    "リストや文字列と類似したインデックスや組み込み関数をつかった操作が可能です。"
   ]
  },
  {
   "cell_type": "code",
   "execution_count": null,
   "metadata": {},
   "outputs": [],
   "source": [
    "numbers3 = (1, 2, 3)\n",
    "numbers3[1] # インデックスの指定による値の取得"
   ]
  },
  {
   "cell_type": "code",
   "execution_count": null,
   "metadata": {},
   "outputs": [],
   "source": [
    "len(numbers3) # lenはタプルを構成する要素の数"
   ]
  },
  {
   "cell_type": "code",
   "execution_count": null,
   "metadata": {},
   "outputs": [],
   "source": [
    "numbers3[1:3] # スライス"
   ]
  },
  {
   "cell_type": "markdown",
   "metadata": {
    "slideshow": {
     "slide_type": "slide"
    }
   },
   "source": [
    "上述しましたが、一度作成したタプルの要素を後から変更することはできません。  \n",
    "したがって以下のプログラムはエラーとなります。\n",
    "\n",
    "---\n",
    "```Python\n",
    "numbers3 = (1, 2, 3)\n",
    "numbers3[1] = 5\n",
    "```"
   ]
  },
  {
   "cell_type": "markdown",
   "metadata": {
    "slideshow": {
     "slide_type": "slide"
    }
   },
   "source": [
    "組み込み関数 **`list`** を使って、タプルをリストに変換できます。"
   ]
  },
  {
   "cell_type": "code",
   "execution_count": null,
   "metadata": {
    "slideshow": {
     "slide_type": "slide"
    }
   },
   "outputs": [],
   "source": [
    "numbers3 = (1, 2, 3)\n",
    "list(numbers3)"
   ]
  },
  {
   "cell_type": "markdown",
   "metadata": {
    "slideshow": {
     "slide_type": "slide"
    }
   },
   "source": [
    "組み込み関数 **`tuple`** を使って、逆にリストをタプルに変換できます。"
   ]
  },
  {
   "cell_type": "code",
   "execution_count": null,
   "metadata": {
    "slideshow": {
     "slide_type": "slide"
    }
   },
   "outputs": [],
   "source": [
    "numbers2 = [1, 2]\n",
    "tuple(numbers2)"
   ]
  },
  {
   "cell_type": "markdown",
   "metadata": {
    "slideshow": {
     "slide_type": "slide"
    }
   },
   "source": [
    "## 多重代入\n",
    "**多重代入**では、左辺に複数の変数などを指定してタプルやリストの全ての要素を一度の操作で代入することができます。"
   ]
  },
  {
   "cell_type": "code",
   "execution_count": null,
   "metadata": {
    "slideshow": {
     "slide_type": "slide"
    }
   },
   "outputs": [],
   "source": [
    "numbers = [0, 10, 20, 30, 40]\n",
    "[a, b, c, d, e] = numbers\n",
    "b"
   ]
  },
  {
   "cell_type": "markdown",
   "metadata": {
    "slideshow": {
     "slide_type": "slide"
    }
   },
   "source": [
    "以下の様にしても同じ結果を得られます。"
   ]
  },
  {
   "cell_type": "code",
   "execution_count": null,
   "metadata": {
    "slideshow": {
     "slide_type": "slide"
    }
   },
   "outputs": [],
   "source": [
    "a, b, c, d, e = ln\n",
    "b"
   ]
  },
  {
   "cell_type": "markdown",
   "metadata": {
    "slideshow": {
     "slide_type": "slide"
    }
   },
   "source": [
    "実は、多重代入は文字列においても実行可能です。"
   ]
  },
  {
   "cell_type": "code",
   "execution_count": null,
   "metadata": {
    "slideshow": {
     "slide_type": "slide"
    }
   },
   "outputs": [],
   "source": [
    "a, b, c, d, e = 'hello'\n",
    "d"
   ]
  },
  {
   "cell_type": "code",
   "execution_count": null,
   "metadata": {},
   "outputs": [],
   "source": [
    "numbers3 = (1, 2, 3)\n",
    "(x,y,z) = numbers3\n",
    "y"
   ]
  },
  {
   "cell_type": "markdown",
   "metadata": {},
   "source": [
    "これは次の様に記述することもできます。"
   ]
  },
  {
   "cell_type": "code",
   "execution_count": null,
   "metadata": {},
   "outputs": [],
   "source": [
    "x,y,z = numbers3\n",
    "print(y)\n",
    "(x,y,z) = (1, 2, 3)\n",
    "print(y)\n",
    "x,y,z = (1, 2, 3)\n",
    "print(y)\n",
    "(x,y,z) = 1, 2, 3\n",
    "print(y)\n",
    "x,y,z = 1, 2, 3\n",
    "print(y)"
   ]
  },
  {
   "cell_type": "markdown",
   "metadata": {},
   "source": [
    "多重代入を使うことで、2つの変数に格納された値の入れ替えを行う手続きはしばしば用いられます。"
   ]
  },
  {
   "cell_type": "code",
   "execution_count": null,
   "metadata": {},
   "outputs": [],
   "source": [
    "x = 'apple'\n",
    "y = 'pen'\n",
    "x, y = y, x \n",
    "print(x, y) #w = x; x = y; y = w と同じ結果が得られる"
   ]
  },
  {
   "cell_type": "markdown",
   "metadata": {
    "slideshow": {
     "slide_type": "skip"
    }
   },
   "source": [
    "## リストやタプルの比較演算\n",
    "数値などを比較するのに用いた比較演算子を用いて、2つのリストやタプルを比較することもできます。"
   ]
  },
  {
   "cell_type": "code",
   "execution_count": null,
   "metadata": {
    "slideshow": {
     "slide_type": "skip"
    }
   },
   "outputs": [],
   "source": [
    "print([1, 2, 3] == [1, 2, 3])\n",
    "print([1, 2] == [1, 2, 3])"
   ]
  },
  {
   "cell_type": "code",
   "execution_count": null,
   "metadata": {
    "slideshow": {
     "slide_type": "skip"
    }
   },
   "outputs": [],
   "source": [
    "print((1, 2, 3) == (1, 2, 3))\n",
    "print((1, 2) == (1, 2, 3))"
   ]
  },
  {
   "cell_type": "code",
   "execution_count": null,
   "metadata": {
    "slideshow": {
     "slide_type": "skip"
    }
   },
   "outputs": [],
   "source": [
    "print([1, 2, 3] != [1, 2, 3])\n",
    "print([1, 2] != [1, 2, 3])"
   ]
  },
  {
   "cell_type": "code",
   "execution_count": null,
   "metadata": {},
   "outputs": [],
   "source": [
    "print((1, 2, 3) != (1, 2, 3))\n",
    "print((1, 2) != (1, 2, 3))"
   ]
  },
  {
   "cell_type": "code",
   "execution_count": null,
   "metadata": {
    "slideshow": {
     "slide_type": "skip"
    }
   },
   "outputs": [],
   "source": [
    "print([1, 2, 3] <= [1, 2, 3])\n",
    "print([1, 2, 3] < [1, 2, 3])\n",
    "print([1, 2] < [1, 2, 3])"
   ]
  },
  {
   "cell_type": "code",
   "execution_count": null,
   "metadata": {},
   "outputs": [],
   "source": [
    "print((1, 2, 3) <= (1, 2, 3))\n",
    "print((1, 2, 3) < (1, 2, 3))\n",
    "print((1, 2) < (1, 2, 3))"
   ]
  },
  {
   "cell_type": "markdown",
   "metadata": {},
   "source": [
    "## for文による繰り返しとリスト、タプル\n",
    "\n",
    "きまった操作の繰り返しはコンピュータが最も得意とする処理のひとつです。\n",
    "リストのそれぞれの要素にわたって操作を繰り返したい場合は **for** 文を用います。\n",
    "\n",
    "リスト `ls` の要素すべてに対して、`実行文`を繰り返すには次のように書きます。\n",
    "\n",
    "---\n",
    "```Python\n",
    "for value in ls:\n",
    "    実行文\n",
    "```\n",
    "---\n",
    "\n",
    "for行の `in` 演算子の右辺に処理対象となるリスト `ls`が、左辺に変数 `value`が書かれます。  \n",
    "`ls` の要素は最初、すなわち `ls[0]`から、一つづつ `value` に代入され、`実行文`の処理を開始します。  \n",
    "`実行文`の処理が終われば、`ls` の次の要素が`value` に代入され、処理を繰り返します。  \n",
    "`ls` の要素がなくなる、すなわち `len(ls)` 回、繰り返せば for文の処理を終了します。　　\n",
    "\n",
    "ここで、`in` 演算子の働きは、先に説明したリスト要素の有無を検査する `in` とは働きが異なることに、\n",
    "そして、if文と同様、 `実行文` の前にはスペースが必要であることに注意して下さい。\n",
    "\n",
    "次に具体例を示します。\n",
    "実行文では 3 つの要素を持つリスト `ls` から一つづつ要素を取り出し、変数 `value` に代入しています。\n",
    "実行文では `vbalue` を用いて取り出した要素にアクセスしています。"
   ]
  },
  {
   "cell_type": "code",
   "execution_count": null,
   "metadata": {},
   "outputs": [],
   "source": [
    "ls = [0,1,2]\n",
    "\n",
    "for value in ls:\n",
    "    print('For loop:', value)"
   ]
  },
  {
   "cell_type": "markdown",
   "metadata": {},
   "source": [
    "`in` の後に直接リストを記述することもできます。"
   ]
  },
  {
   "cell_type": "code",
   "execution_count": null,
   "metadata": {},
   "outputs": [],
   "source": [
    "for value in  [0,1,2]:\n",
    "    print('For loop:', value)"
   ]
  },
  {
   "cell_type": "markdown",
   "metadata": {},
   "source": [
    "`実行文` の前にスペースがないとエラーが出ます。"
   ]
  },
  {
   "cell_type": "code",
   "execution_count": null,
   "metadata": {},
   "outputs": [],
   "source": [
    "for value in  [0,1,2]:\n",
    "print('For loop:', value)"
   ]
  },
  {
   "cell_type": "markdown",
   "metadata": {},
   "source": [
    "エラーが出れば意図した通りにプログラムが組めていないのにすぐ気が付きますが、エラーが出ないために意図したプログラムが組めていないことに気が付かないことがあります。例えば、次の様な内容を実行しようとしていたとします。"
   ]
  },
  {
   "cell_type": "code",
   "execution_count": null,
   "metadata": {},
   "outputs": [],
   "source": [
    "for value in  [0,1,2]:\n",
    "    print('During for loop:', value)\n",
    "    print('During for loop, too:', value)"
   ]
  },
  {
   "cell_type": "markdown",
   "metadata": {},
   "source": [
    "後者のprintの行のスペースの数が間違ってると、次の様な結果になる場合がありますので注意して下さい。"
   ]
  },
  {
   "cell_type": "code",
   "execution_count": null,
   "metadata": {},
   "outputs": [],
   "source": [
    "for value in  [0,1,2]:\n",
    "    print('During for loop:', value)\n",
    "print('During for loop, too:', value) #この行のスペースの数が間違っていたがエラーは出ない"
   ]
  },
  {
   "cell_type": "markdown",
   "metadata": {},
   "source": [
    "タプルの要素にまたがる処理もリストと同様におこなえます。"
   ]
  },
  {
   "cell_type": "code",
   "execution_count": null,
   "metadata": {},
   "outputs": [],
   "source": [
    "for value in  (0,1,2):\n",
    "    print('For loop:', value)"
   ]
  },
  {
   "cell_type": "markdown",
   "metadata": {},
   "source": [
    "##  for文による繰り返しと文字列\n",
    "\n",
    "for文を使うと文字列全体にまたがる処理も可能です。  \n",
    "文字列 `str1` をまたがって一文字ずつの繰り返し処理をおこなう場合は次のように書きます。  \n",
    "ここで、`c` にはとりだされた一文字（の文字列）が代入されています。\n",
    "\n",
    "---\n",
    "```Python\n",
    "for c in str1:\n",
    "    実行文\n",
    "```\n",
    "---\n",
    "\n",
    "`str1` で与えられる文字列を一文字ずつ大文字で出力する処理は以下のようになります。"
   ]
  },
  {
   "cell_type": "code",
   "execution_count": null,
   "metadata": {},
   "outputs": [],
   "source": [
    "str1 = 'Apple and pen'\n",
    "for c in str1:\n",
    "    print(c.upper())"
   ]
  },
  {
   "cell_type": "markdown",
   "metadata": {},
   "source": [
    "## 練習\n",
    "整数の要素からなるリスト `ln` を引数として取り、`ln` の要素の総和を返す関数 `sum_list` を作成して下さい。\n",
    "\n",
    "以下のセルの `...` のところを書き換えて `sum_list(ln)` を作成して下さい。（練習の正解はノートの一番最後にあります。）"
   ]
  },
  {
   "cell_type": "code",
   "execution_count": null,
   "metadata": {},
   "outputs": [],
   "source": [
    "def sum_list(ln):\n",
    "    ..."
   ]
  },
  {
   "cell_type": "markdown",
   "metadata": {},
   "source": [
    "上のセルで解答を作成した後、以下のセルを実行し、実行結果が全て True になることを確認して下さい。"
   ]
  },
  {
   "cell_type": "code",
   "execution_count": null,
   "metadata": {},
   "outputs": [],
   "source": [
    "print(sum_list([10, 20, 30]) == 60)\n",
    "print(sum_list([-1, 2, -3, 4, -5]) == -3)"
   ]
  },
  {
   "cell_type": "markdown",
   "metadata": {},
   "source": [
    "## 練習\n",
    "整数の要素からなるリスト `ln` を引数として取り、`ln` に含まれる要素を逆順に格納したタプルを返す関数 `reverse_totuple` を作成して下さい。\n",
    "\n",
    "以下のセルの `...` のところを書き換えて `reverse_totuple(ln)` を作成して下さい。"
   ]
  },
  {
   "cell_type": "code",
   "execution_count": null,
   "metadata": {},
   "outputs": [],
   "source": [
    "def reverse_totuple(ln):\n",
    "    ..."
   ]
  },
  {
   "cell_type": "markdown",
   "metadata": {},
   "source": [
    "上のセルで解答を作成した後、以下のセルを実行し、実行結果が `True` になることを確認して下さい。"
   ]
  },
  {
   "cell_type": "code",
   "execution_count": null,
   "metadata": {},
   "outputs": [],
   "source": [
    "print(reverse_totuple([1, 2, 3, 4, 5]) == (5, 4, 3, 2, 1))"
   ]
  },
  {
   "cell_type": "markdown",
   "metadata": {},
   "source": [
    "## 練習\n",
    "リスト `ln` を引数として取り、`ln` の偶数番目のインデックスの値を削除したリストを返す関数 `remove_eveneindex` を作成して下さい（ただし、0は偶数として扱うものとします）。\n",
    "\n",
    "以下のセルの `...` のところを書き換えて `remove_evenindex(ln)` を作成して下さい。"
   ]
  },
  {
   "cell_type": "code",
   "execution_count": null,
   "metadata": {},
   "outputs": [],
   "source": [
    "def remove_evenindex(ln):\n",
    "    ..."
   ]
  },
  {
   "cell_type": "markdown",
   "metadata": {},
   "source": [
    "上のセルで解答を作成した後、以下のセルを実行し、実行結果が全て `True` になることを確認して下さい。"
   ]
  },
  {
   "cell_type": "code",
   "execution_count": null,
   "metadata": {},
   "outputs": [],
   "source": [
    "print(remove_evenindex(['a', 'b', 'c', 'd', 'e', 'f', 'g']) == ['b', 'd', 'f'] )\n",
    "print(remove_evenindex([1, 2, 3, 4, 5]) == [2, 4])"
   ]
  },
  {
   "cell_type": "markdown",
   "metadata": {},
   "source": [
    "## 練習\n",
    "\n",
    "ATGCの4種類の文字から成る文字列 `str_atgc` が引数として与えられたとき、次の様なリスト `list_count` を返す関数 `atgc_countlist` を作成して下さい。ただし、 `list_count` の要素は、各塩基 `bp` に対して `str_atgc` 中の `bp` の出現回数と `bp` の名前を格納したリストとします。\n",
    "\n",
    "以下のセルの `...` のところを書き換えて `atgc_countlist(str_atgc)` を作成して下さい。"
   ]
  },
  {
   "cell_type": "code",
   "execution_count": null,
   "metadata": {},
   "outputs": [],
   "source": [
    "def atgc_countlist(str_atgc):\n",
    "    ..."
   ]
  },
  {
   "cell_type": "markdown",
   "metadata": {},
   "source": [
    "上のセルで解答を作成した後、以下のセルを実行し、実行結果が `True` になることを確認して下さい。"
   ]
  },
  {
   "cell_type": "code",
   "execution_count": null,
   "metadata": {},
   "outputs": [],
   "source": [
    "print(sorted(atgc_countlist('AAGCCCCATGGTAA')) == sorted([[5, 'A'], [2, 'T'], [3, 'G'], [4, 'C']]))"
   ]
  },
  {
   "cell_type": "markdown",
   "metadata": {},
   "source": [
    "## 練習\n",
    "\n",
    "英語の１文からなる文字列 `str_engsentence` が引数として与えられたとき、`str_engsentence` 中に含まれる単語数を返す関数 `count_words` を作成して下さい。ただし、文はピリオドで終了し単語は空白で区切られるものとします。\n",
    "\n",
    "以下のセルの `...` のところを書き換えて `count_words(str_engsentence)` を作成して下さい。"
   ]
  },
  {
   "cell_type": "code",
   "execution_count": null,
   "metadata": {},
   "outputs": [],
   "source": [
    "def count_words(str_engsentence):\n",
    "    ..."
   ]
  },
  {
   "cell_type": "markdown",
   "metadata": {},
   "source": [
    "上のセルで解答を作成した後、以下のセルを実行し、実行結果が `True` になることを確認して下さい。"
   ]
  },
  {
   "cell_type": "code",
   "execution_count": null,
   "metadata": {},
   "outputs": [],
   "source": [
    "print(count_words('From Stettin in the Baltic to Trieste in the Adriatic an iron curtain has descended across the Continent.') == 18)"
   ]
  },
  {
   "cell_type": "markdown",
   "metadata": {},
   "source": [
    "## 練習\n",
    "\n",
    "文字列 `str1` が引数として与えられたとき、 `str1` を反転させた文字列を返す関数 `reverse_string` を作成して下さい。\n",
    "\n",
    "以下のセルの `...` のところを書き換えて `reverse_string(str1)` を作成して下さい。"
   ]
  },
  {
   "cell_type": "code",
   "execution_count": null,
   "metadata": {},
   "outputs": [],
   "source": [
    "def reverse_string(str1):\n",
    "    ..."
   ]
  },
  {
   "cell_type": "markdown",
   "metadata": {},
   "source": [
    "上のセルで解答を作成した後、以下のセルを実行し、実行結果が `True` になることを確認して下さい。"
   ]
  },
  {
   "cell_type": "code",
   "execution_count": null,
   "metadata": {},
   "outputs": [],
   "source": [
    "print(reverse_string('No lemon, No melon') == 'nolem oN ,nomel oN')"
   ]
  },
  {
   "cell_type": "markdown",
   "metadata": {},
   "source": [
    "## ▲比較演算子 `==`, `!=` と `is`, `is not`\n",
    "\n",
    "先に紹介した比較演算子と似た機能の演算子として、`is` および `is not` があります。\n",
    "比較演算子 `==` あるいは `!=` は左辺と右辺のオブジェクトの中身が、それぞれ等しいあるいは等しくないかを判定します。\n",
    "一方、`is` および `is not` は左辺と右辺のオブジェクトそのものが、等しいあるいはそうではないかを判定します。\n",
    "オブジェクトについては1-3で簡単に紹介されていますが、\n",
    "詳細については6-2オブジェクト指向の回で説明します。\n",
    "\n",
    "これらの違いをリストを使って説明します。"
   ]
  },
  {
   "cell_type": "markdown",
   "metadata": {},
   "source": [
    "リスト `a` を作成、それを `b` に代入します。`b` の中身はもちろん `a` と同じです。"
   ]
  },
  {
   "cell_type": "code",
   "execution_count": null,
   "metadata": {},
   "outputs": [],
   "source": [
    "a = [1, 2, 3]\n",
    "b = a\n",
    "print(b)\n",
    "print(a == b)"
   ]
  },
  {
   "cell_type": "markdown",
   "metadata": {},
   "source": [
    "`is` 演算子で `a`,`b` を比較すると `True`、すなわち同じオブジェクトであることがわかります。\n",
    "念のためオブジェクトの識別値を得る組み込み関数 `id` の結果も併せて示します。\n",
    "（オブジェクトの識別値とは、1.3で説明されているオブジェクトの参照値を整数に変換したものです。）"
   ]
  },
  {
   "cell_type": "code",
   "execution_count": null,
   "metadata": {},
   "outputs": [],
   "source": [
    "print(a is b)\n",
    "print(id(a), id(b))"
   ]
  },
  {
   "cell_type": "markdown",
   "metadata": {},
   "source": [
    "リスト `a` と同じ中身のリスト `c` を作って比較してみます。\n",
    "（組み込み関数 `list` は新しいリストを作成します。）  \n",
    "`==` 演算子による比較結果は `True` にもかかわらず、`is` 演算子の結果は `False` となります。もちろん `id` の結果も異なります。"
   ]
  },
  {
   "cell_type": "code",
   "execution_count": null,
   "metadata": {},
   "outputs": [],
   "source": [
    "c = list(a)\n",
    "print(c)\n",
    "print(a == c)\n",
    "print(a is c)\n",
    "print(id(a), id(c))"
   ]
  },
  {
   "cell_type": "markdown",
   "metadata": {},
   "source": [
    "オブジェクトの中身が等しいとオブジェクトそのものが同じかどうかの違いは意味がないように思われるかもしれません。\n",
    "両者の違いを具体例で示してみます。\n",
    "\n",
    "上で作られたリスト `a, b, c` の `a` の要素を書き換え、内容を確認します。"
   ]
  },
  {
   "cell_type": "code",
   "execution_count": null,
   "metadata": {},
   "outputs": [],
   "source": [
    "a[1] = 100\n",
    "print(a)"
   ]
  },
  {
   "cell_type": "markdown",
   "metadata": {},
   "source": [
    "予想どおり `a` は書き換わっています。`b, c` についてはどうでしょうか？"
   ]
  },
  {
   "cell_type": "code",
   "execution_count": null,
   "metadata": {},
   "outputs": [],
   "source": [
    "print(b)\n",
    "print(c)"
   ]
  },
  {
   "cell_type": "markdown",
   "metadata": {},
   "source": [
    "`a` の操作によって`b` の中身が変わっています（`a` と `b` はオブジェクトそのものが等しいため）。\n",
    "一方で `c` は不変でした（オブジェクトは異なり `a` と中身が等しかったため。）。\n",
    "\n",
    "このようにオブジェクトの中身が等しいとオブジェクトそのものが同じかどうかによってがふるまいの違いが生じ、予期しない結果となることもあります。"
   ]
  },
  {
   "cell_type": "markdown",
   "metadata": {},
   "source": [
    "さらに、以下のセルを確認してください"
   ]
  },
  {
   "cell_type": "code",
   "execution_count": null,
   "metadata": {},
   "outputs": [],
   "source": [
    "a = []\n",
    "b = []\n",
    "print(a == b)\n",
    "print(a is b)"
   ]
  },
  {
   "cell_type": "markdown",
   "metadata": {},
   "source": [
    "`[]` という式は、新しいリストを作成して返すからです。"
   ]
  },
  {
   "cell_type": "markdown",
   "metadata": {},
   "source": [
    "多重リスト、たとえば二重リストは、リストの参照値から成るリストです。\n",
    "以下の例では、リスト `a` が二つ並んだ二重リストを作成しています。"
   ]
  },
  {
   "cell_type": "code",
   "execution_count": null,
   "metadata": {},
   "outputs": [],
   "source": [
    "a = [1,2]\n",
    "b = [a,a]\n",
    "print(b)\n",
    "print(b[0])\n",
    "print(b[0] is b[1])\n",
    "print(b[0][1])"
   ]
  },
  {
   "cell_type": "markdown",
   "metadata": {},
   "source": [
    "`b[0]` と `b[1]` が同じオブジェクトであることに注意してください。どちらも、リスト `a` と同じオブジェクトです。\n",
    "\n",
    "ここで、以下のような代入を行ってみましょう。"
   ]
  },
  {
   "cell_type": "code",
   "execution_count": null,
   "metadata": {},
   "outputs": [],
   "source": [
    "b[0][1] = 20"
   ]
  },
  {
   "cell_type": "markdown",
   "metadata": {},
   "source": [
    "すると、`b` の中身は以下のようになります。"
   ]
  },
  {
   "cell_type": "code",
   "execution_count": null,
   "metadata": {},
   "outputs": [],
   "source": [
    "print(b)"
   ]
  },
  {
   "cell_type": "markdown",
   "metadata": {},
   "source": [
    "## 練習の解答"
   ]
  },
  {
   "cell_type": "code",
   "execution_count": null,
   "metadata": {},
   "outputs": [],
   "source": [
    "def sum_list(ln):\n",
    "    int_sum = 0\n",
    "    for value in ln:\n",
    "        int_sum += value\n",
    "    return int_sum\n",
    "#sum_list([10, 20, 30])"
   ]
  },
  {
   "cell_type": "code",
   "execution_count": null,
   "metadata": {},
   "outputs": [],
   "source": [
    "def reverse_totuple(ln):\n",
    "    ln.reverse()\n",
    "    tup = tuple(ln)\n",
    "    return tup\n",
    "#reverse_totuple([1, 2, 3, 4, 5])"
   ]
  },
  {
   "cell_type": "code",
   "execution_count": null,
   "metadata": {},
   "outputs": [],
   "source": [
    "def remove_evenindex(ln):\n",
    "    ln2 = ln[1::2]\n",
    "    return ln2\n",
    "#remove_evenindex(['a', 'b', 'c', 'd', 'e', 'f', 'g'])"
   ]
  },
  {
   "cell_type": "code",
   "execution_count": null,
   "metadata": {},
   "outputs": [],
   "source": [
    "def atgc_countlist(str_atgc):\n",
    "    lst_bpname = ['A', 'T', 'G', 'C']\n",
    "    list_count = []\n",
    "    for value in lst_bpname:\n",
    "        int_bpcnt = str_atgc.count(value)\n",
    "        list_count.append([int_bpcnt, value])\n",
    "    return list_count\n",
    "#atgc_countlist('AAGCCCCATGGTAA') "
   ]
  },
  {
   "cell_type": "code",
   "execution_count": null,
   "metadata": {},
   "outputs": [],
   "source": [
    "def count_words(str_engsentences):\n",
    "    list_str1 = str_engsentences.split(' ')\n",
    "    return len(list_str1)\n",
    "#count_words('From Stettin in the Baltic to Trieste in the Adriatic an iron curtain has descended across the Continent.')"
   ]
  },
  {
   "cell_type": "code",
   "execution_count": null,
   "metadata": {},
   "outputs": [],
   "source": [
    "def reverse_string(str1):\n",
    "    return str1[::-1]\n",
    "#reverse_string('No lemon, No melon')\n",
    "\n",
    "#別解\n",
    "#def reverse_string(str1):\n",
    "#    ln1 = list(str1)\n",
    "#    ln1.reverse()\n",
    "#    str2 = ''.join(ln1)\n",
    "#    return str2\n",
    "#reverse_string('No lemon, No melon')"
   ]
  }
 ],
 "metadata": {
  "kernelspec": {
   "display_name": "Python 3",
   "language": "python",
   "name": "python3"
  },
  "language_info": {
   "codemirror_mode": {
    "name": "ipython",
    "version": 3
   },
   "file_extension": ".py",
   "mimetype": "text/x-python",
   "name": "python",
   "nbconvert_exporter": "python",
   "pygments_lexer": "ipython3",
   "version": "3.6.8"
  }
 },
 "nbformat": 4,
 "nbformat_minor": 2
}
